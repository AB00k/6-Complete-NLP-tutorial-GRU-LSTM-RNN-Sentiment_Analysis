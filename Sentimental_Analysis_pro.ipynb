{
  "cells": [
    {
      "cell_type": "code",
      "execution_count": null,
      "metadata": {
        "id": "BK1WNcCn1XRz",
        "pycharm": {
          "name": "#%%\n"
        }
      },
      "outputs": [],
      "source": [
        "#from google.colab import drive\n",
        "#drive.mount('/content/drive')"
      ]
    },
    {
      "cell_type": "code",
      "execution_count": null,
      "metadata": {
        "id": "x6xrRjpk8rAU",
        "pycharm": {
          "name": "#%%\n"
        }
      },
      "outputs": [],
      "source": [
        "#!unzip '/content/drive/My Drive/arabic-sentiment-analysis-dataset-ss2030-dataset.zip' -d /content/"
      ]
    },
    {
      "cell_type": "markdown",
      "metadata": {
        "id": "nQWlxoCrEmWt",
        "pycharm": {
          "name": "#%% md\n"
        }
      },
      "source": [
        "# Import Libraries"
      ]
    },
    {
      "cell_type": "code",
      "execution_count": null,
      "metadata": {
        "colab": {
          "base_uri": "https://localhost:8080/",
          "height": 63
        },
        "id": "mh23RjkB957t",
        "outputId": "431927e8-6921-4929-942b-1594a04d6731",
        "pycharm": {
          "name": "#%%\n"
        }
      },
      "outputs": [
        {
          "data": {
            "text/html": [
              "<p style=\"color: red;\">\n",
              "The default version of TensorFlow in Colab will soon switch to TensorFlow 2.x.<br>\n",
              "We recommend you <a href=\"https://www.tensorflow.org/guide/migrate\" target=\"_blank\">upgrade</a> now \n",
              "or ensure your notebook will continue to use TensorFlow 1.x via the <code>%tensorflow_version 1.x</code> magic:\n",
              "<a href=\"https://colab.research.google.com/notebooks/tensorflow_version.ipynb\" target=\"_blank\">more info</a>.</p>\n"
            ],
            "text/plain": [
              "<IPython.core.display.HTML object>"
            ]
          },
          "metadata": {
            "tags": []
          },
          "output_type": "display_data"
        }
      ],
      "source": [
        "import pandas as pd \n",
        "import string \n",
        "import nltk\n",
        "from nltk.stem.isri import ISRIStemmer\n",
        "import re\n",
        "from sklearn.model_selection import train_test_split\n",
        "import tensorflow as tf\n",
        "import numpy as np\n",
        "from tensorflow.python.keras.preprocessing import sequence\n",
        "from tensorflow.python.keras.preprocessing import text\n",
        "from tensorflow.python.keras import models"
      ]
    },
    {
      "cell_type": "markdown",
      "metadata": {
        "id": "ST1vdYLB6yCF",
        "pycharm": {
          "name": "#%% md\n"
        }
      },
      "source": [
        "# Read DataSet"
      ]
    },
    {
      "cell_type": "code",
      "execution_count": null,
      "metadata": {
        "colab": {
          "base_uri": "https://localhost:8080/",
          "height": 204
        },
        "id": "5DGv-Nka957y",
        "outputId": "caa0c7a3-1f74-44b5-a2f2-b37ae525131d",
        "pycharm": {
          "name": "#%%\n"
        }
      },
      "outputs": [
        {
          "data": {
            "text/html": [
              "<div>\n",
              "<style scoped>\n",
              "    .dataframe tbody tr th:only-of-type {\n",
              "        vertical-align: middle;\n",
              "    }\n",
              "\n",
              "    .dataframe tbody tr th {\n",
              "        vertical-align: top;\n",
              "    }\n",
              "\n",
              "    .dataframe thead th {\n",
              "        text-align: right;\n",
              "    }\n",
              "</style>\n",
              "<table border=\"1\" class=\"dataframe\">\n",
              "  <thead>\n",
              "    <tr style=\"text-align: right;\">\n",
              "      <th></th>\n",
              "      <th>tweets</th>\n",
              "      <th>labels</th>\n",
              "    </tr>\n",
              "  </thead>\n",
              "  <tbody>\n",
              "    <tr>\n",
              "      <th>0</th>\n",
              "      <td>امتلأت هذه الفترة بالكثير من الجراح والطعنات ا...</td>\n",
              "      <td>Neg</td>\n",
              "    </tr>\n",
              "    <tr>\n",
              "      <th>1</th>\n",
              "      <td>سامي الجابر غبي اثبت نفسك انك ممتاز وانك كفاءة...</td>\n",
              "      <td>Neg</td>\n",
              "    </tr>\n",
              "    <tr>\n",
              "      <th>2</th>\n",
              "      <td>لاتستطيع تقييم العمل بشكل مطلق ونهائي . . . لو...</td>\n",
              "      <td>Neg</td>\n",
              "    </tr>\n",
              "    <tr>\n",
              "      <th>3</th>\n",
              "      <td>تبغى تتابعه بكيفك هذا رايك انا المسلسل ماعجبني...</td>\n",
              "      <td>Neg</td>\n",
              "    </tr>\n",
              "    <tr>\n",
              "      <th>4</th>\n",
              "      <td>التشقير بالليزر ضعيف ولايخفف الشعر ولايوجد حل ...</td>\n",
              "      <td>Neg</td>\n",
              "    </tr>\n",
              "  </tbody>\n",
              "</table>\n",
              "</div>"
            ],
            "text/plain": [
              "                                              tweets labels\n",
              "0  امتلأت هذه الفترة بالكثير من الجراح والطعنات ا...    Neg\n",
              "1  سامي الجابر غبي اثبت نفسك انك ممتاز وانك كفاءة...    Neg\n",
              "2  لاتستطيع تقييم العمل بشكل مطلق ونهائي . . . لو...    Neg\n",
              "3  تبغى تتابعه بكيفك هذا رايك انا المسلسل ماعجبني...    Neg\n",
              "4  التشقير بالليزر ضعيف ولايخفف الشعر ولايوجد حل ...    Neg"
            ]
          },
          "execution_count": 7,
          "metadata": {
            "tags": []
          },
          "output_type": "execute_result"
        }
      ],
      "source": [
        "Neg_Tweets = pd.read_csv('/content/NegTrain.txt', encoding='windows-1256',names=[ \"tweets\"]) # dataframe \n",
        "Neg_Tweets['labels'] = 'Neg' #assign labels to every row\n",
        "Neg_Tweets.head()"
      ]
    },
    {
      "cell_type": "code",
      "execution_count": null,
      "metadata": {
        "colab": {
          "base_uri": "https://localhost:8080/",
          "height": 204
        },
        "id": "nX-n7Jko9573",
        "outputId": "abd310c3-0c04-434a-ff45-e7e02b2ed821",
        "pycharm": {
          "name": "#%%\n"
        }
      },
      "outputs": [
        {
          "data": {
            "text/html": [
              "<div>\n",
              "<style scoped>\n",
              "    .dataframe tbody tr th:only-of-type {\n",
              "        vertical-align: middle;\n",
              "    }\n",
              "\n",
              "    .dataframe tbody tr th {\n",
              "        vertical-align: top;\n",
              "    }\n",
              "\n",
              "    .dataframe thead th {\n",
              "        text-align: right;\n",
              "    }\n",
              "</style>\n",
              "<table border=\"1\" class=\"dataframe\">\n",
              "  <thead>\n",
              "    <tr style=\"text-align: right;\">\n",
              "      <th></th>\n",
              "      <th>tweets</th>\n",
              "      <th>labels</th>\n",
              "    </tr>\n",
              "  </thead>\n",
              "  <tbody>\n",
              "    <tr>\n",
              "      <th>0</th>\n",
              "      <td>لا تجد قوما أشد سعادة في الدنيا ولا أوسع صدورا...</td>\n",
              "      <td>Pos</td>\n",
              "    </tr>\n",
              "    <tr>\n",
              "      <th>1</th>\n",
              "      <td>! رسايلك صوتك سوالفك طاريك والله إنها للقلب مص...</td>\n",
              "      <td>Pos</td>\n",
              "    </tr>\n",
              "    <tr>\n",
              "      <th>2</th>\n",
              "      <td>سعادة الآخرين لن تؤخذ من سعادتك</td>\n",
              "      <td>Pos</td>\n",
              "    </tr>\n",
              "    <tr>\n",
              "      <th>3</th>\n",
              "      <td>المعصية لها توبة</td>\n",
              "      <td>Pos</td>\n",
              "    </tr>\n",
              "    <tr>\n",
              "      <th>4</th>\n",
              "      <td>مساء السعادة</td>\n",
              "      <td>Pos</td>\n",
              "    </tr>\n",
              "  </tbody>\n",
              "</table>\n",
              "</div>"
            ],
            "text/plain": [
              "                                              tweets labels\n",
              "0  لا تجد قوما أشد سعادة في الدنيا ولا أوسع صدورا...    Pos\n",
              "1  ! رسايلك صوتك سوالفك طاريك والله إنها للقلب مص...    Pos\n",
              "2                   سعادة الآخرين لن تؤخذ من سعادتك     Pos\n",
              "3                                  المعصية لها توبة     Pos\n",
              "4                                      مساء السعادة     Pos"
            ]
          },
          "execution_count": 8,
          "metadata": {
            "tags": []
          },
          "output_type": "execute_result"
        }
      ],
      "source": [
        "Pos_Tweets = pd.read_csv('/content/PosTrain.txt', encoding='windows-1256',names=[ \"tweets\"])\n",
        "Pos_Tweets['labels'] = 'Pos'\n",
        "Pos_Tweets.head()"
      ]
    },
    {
      "cell_type": "code",
      "execution_count": null,
      "metadata": {
        "id": "qOGST90ptJtb",
        "pycharm": {
          "name": "#%%\n"
        }
      },
      "outputs": [],
      "source": [
        "Test_Pos_Tweets = pd.read_csv('/content/PosTest.txt', encoding='windows-1256',names=[ \"tweets\"])\n",
        "Test_Pos_Tweets['labels'] = 'Pos'"
      ]
    },
    {
      "cell_type": "code",
      "execution_count": null,
      "metadata": {
        "id": "p-41SROem8Wf",
        "pycharm": {
          "name": "#%%\n"
        }
      },
      "outputs": [],
      "source": [
        "Test_Neg_Tweets = pd.read_csv('/content/NegTest.txt', encoding='windows-1256',names=[ \"tweets\"])\n",
        "Test_Neg_Tweets['labels'] = 'Neg'"
      ]
    },
    {
      "cell_type": "code",
      "execution_count": null,
      "metadata": {
        "colab": {
          "base_uri": "https://localhost:8080/",
          "height": 204
        },
        "id": "X50p7gmD-4rd",
        "outputId": "57935849-6e82-4c7e-dd57-d44744a25e20",
        "pycharm": {
          "name": "#%%\n"
        }
      },
      "outputs": [
        {
          "data": {
            "text/html": [
              "<div>\n",
              "<style scoped>\n",
              "    .dataframe tbody tr th:only-of-type {\n",
              "        vertical-align: middle;\n",
              "    }\n",
              "\n",
              "    .dataframe tbody tr th {\n",
              "        vertical-align: top;\n",
              "    }\n",
              "\n",
              "    .dataframe thead th {\n",
              "        text-align: right;\n",
              "    }\n",
              "</style>\n",
              "<table border=\"1\" class=\"dataframe\">\n",
              "  <thead>\n",
              "    <tr style=\"text-align: right;\">\n",
              "      <th></th>\n",
              "      <th>tweets</th>\n",
              "      <th>labels</th>\n",
              "    </tr>\n",
              "  </thead>\n",
              "  <tbody>\n",
              "    <tr>\n",
              "      <th>0</th>\n",
              "      <td>حقوق المرأة 💚💚💚 https://t.co/Mzf90Ta5g1</td>\n",
              "      <td>1</td>\n",
              "    </tr>\n",
              "    <tr>\n",
              "      <th>1</th>\n",
              "      <td>RT @___IHAVENOIDEA: حقوق المرأة في الإسلام. ht...</td>\n",
              "      <td>1</td>\n",
              "    </tr>\n",
              "    <tr>\n",
              "      <th>2</th>\n",
              "      <td>RT @saud_talep: Retweeted لجنة التنمية بشبرا (...</td>\n",
              "      <td>1</td>\n",
              "    </tr>\n",
              "    <tr>\n",
              "      <th>3</th>\n",
              "      <td>RT @MojKsa: حقوق المرأة التي تضمنها لها وزارة ...</td>\n",
              "      <td>1</td>\n",
              "    </tr>\n",
              "    <tr>\n",
              "      <th>4</th>\n",
              "      <td>RT @abm112211: ولي امر الزوجة او ولي الزوجة او...</td>\n",
              "      <td>1</td>\n",
              "    </tr>\n",
              "  </tbody>\n",
              "</table>\n",
              "</div>"
            ],
            "text/plain": [
              "                                              tweets  labels\n",
              "0            حقوق المرأة 💚💚💚 https://t.co/Mzf90Ta5g1       1\n",
              "1  RT @___IHAVENOIDEA: حقوق المرأة في الإسلام. ht...       1\n",
              "2  RT @saud_talep: Retweeted لجنة التنمية بشبرا (...       1\n",
              "3  RT @MojKsa: حقوق المرأة التي تضمنها لها وزارة ...       1\n",
              "4  RT @abm112211: ولي امر الزوجة او ولي الزوجة او...       1"
            ]
          },
          "execution_count": 11,
          "metadata": {
            "tags": []
          },
          "output_type": "execute_result"
        }
      ],
      "source": [
        "new_data=pd.read_csv('/content/Arabic Sentiment Analysis Dataset - SS2030.csv')\n",
        "new_data.columns=['tweets','labels']\n",
        "new_data.head()"
      ]
    },
    {
      "cell_type": "code",
      "execution_count": null,
      "metadata": {
        "id": "sIa_oNXlUCOM",
        "pycharm": {
          "name": "#%%\n"
        }
      },
      "outputs": [],
      "source": [
        "new_data.labels=new_data.labels.astype('int64')"
      ]
    },
    {
      "cell_type": "code",
      "execution_count": null,
      "metadata": {
        "id": "TRGn2irZUSko",
        "pycharm": {
          "name": "#%%\n"
        }
      },
      "outputs": [],
      "source": [
        "new_data['labels']= new_data['labels'].map( {1:'Pos', 0:'Neg'} )"
      ]
    },
    {
      "cell_type": "markdown",
      "metadata": {
        "id": "0il_UcvztOal",
        "pycharm": {
          "name": "#%% md\n"
        }
      },
      "source": [
        "# Combine All Test And Train Set"
      ]
    },
    {
      "cell_type": "code",
      "execution_count": null,
      "metadata": {
        "id": "lw5vhOQS9577",
        "pycharm": {
          "name": "#%%\n"
        }
      },
      "outputs": [],
      "source": [
        "tweets=pd.concat([Pos_Tweets,Neg_Tweets,Test_Neg_Tweets,Test_Pos_Tweets,new_data],axis=0, ignore_index=True,sort=False )"
      ]
    },
    {
      "cell_type": "markdown",
      "metadata": {
        "id": "lPAJyqqaGfoL",
        "pycharm": {
          "name": "#%% md\n"
        }
      },
      "source": [
        "# Exploratory Data Analysis\n",
        "Let's check out some of the stats with some plots and the built-in methods in pandas!\n",
        "\n"
      ]
    },
    {
      "cell_type": "code",
      "execution_count": null,
      "metadata": {
        "colab": {
          "base_uri": "https://localhost:8080/",
          "height": 173
        },
        "id": "QVFggMuB957-",
        "outputId": "2e374b64-8f9d-4086-8ac0-8a138d7989f7",
        "pycharm": {
          "name": "#%%\n"
        }
      },
      "outputs": [
        {
          "data": {
            "text/html": [
              "<div>\n",
              "<style scoped>\n",
              "    .dataframe tbody tr th:only-of-type {\n",
              "        vertical-align: middle;\n",
              "    }\n",
              "\n",
              "    .dataframe tbody tr th {\n",
              "        vertical-align: top;\n",
              "    }\n",
              "\n",
              "    .dataframe thead th {\n",
              "        text-align: right;\n",
              "    }\n",
              "</style>\n",
              "<table border=\"1\" class=\"dataframe\">\n",
              "  <thead>\n",
              "    <tr style=\"text-align: right;\">\n",
              "      <th></th>\n",
              "      <th>tweets</th>\n",
              "      <th>labels</th>\n",
              "    </tr>\n",
              "  </thead>\n",
              "  <tbody>\n",
              "    <tr>\n",
              "      <th>count</th>\n",
              "      <td>15359</td>\n",
              "      <td>15364</td>\n",
              "    </tr>\n",
              "    <tr>\n",
              "      <th>unique</th>\n",
              "      <td>15249</td>\n",
              "      <td>2</td>\n",
              "    </tr>\n",
              "    <tr>\n",
              "      <th>top</th>\n",
              "      <td>ممتاز</td>\n",
              "      <td>Neg</td>\n",
              "    </tr>\n",
              "    <tr>\n",
              "      <th>freq</th>\n",
              "      <td>11</td>\n",
              "      <td>7971</td>\n",
              "    </tr>\n",
              "  </tbody>\n",
              "</table>\n",
              "</div>"
            ],
            "text/plain": [
              "        tweets labels\n",
              "count    15359  15364\n",
              "unique   15249      2\n",
              "top     ممتاز     Neg\n",
              "freq        11   7971"
            ]
          },
          "execution_count": 15,
          "metadata": {
            "tags": []
          },
          "output_type": "execute_result"
        }
      ],
      "source": [
        "tweets.describe()"
      ]
    },
    {
      "cell_type": "markdown",
      "metadata": {
        "id": "U6IBkEBOCJ3M",
        "pycharm": {
          "name": "#%% md\n"
        }
      },
      "source": [
        "Let's use groupby to use describe by label, this way we can begin to think about the features that separate Pos and Neg!"
      ]
    },
    {
      "cell_type": "code",
      "execution_count": null,
      "metadata": {
        "colab": {
          "base_uri": "https://localhost:8080/",
          "height": 173
        },
        "id": "69rrtqkt958A",
        "outputId": "fa218d76-17de-4d90-b9a1-c7b06d480ace",
        "pycharm": {
          "name": "#%%\n"
        }
      },
      "outputs": [
        {
          "data": {
            "text/html": [
              "<div>\n",
              "<style scoped>\n",
              "    .dataframe tbody tr th:only-of-type {\n",
              "        vertical-align: middle;\n",
              "    }\n",
              "\n",
              "    .dataframe tbody tr th {\n",
              "        vertical-align: top;\n",
              "    }\n",
              "\n",
              "    .dataframe thead tr th {\n",
              "        text-align: left;\n",
              "    }\n",
              "\n",
              "    .dataframe thead tr:last-of-type th {\n",
              "        text-align: right;\n",
              "    }\n",
              "</style>\n",
              "<table border=\"1\" class=\"dataframe\">\n",
              "  <thead>\n",
              "    <tr>\n",
              "      <th></th>\n",
              "      <th colspan=\"4\" halign=\"left\">tweets</th>\n",
              "    </tr>\n",
              "    <tr>\n",
              "      <th></th>\n",
              "      <th>count</th>\n",
              "      <th>unique</th>\n",
              "      <th>top</th>\n",
              "      <th>freq</th>\n",
              "    </tr>\n",
              "    <tr>\n",
              "      <th>labels</th>\n",
              "      <th></th>\n",
              "      <th></th>\n",
              "      <th></th>\n",
              "      <th></th>\n",
              "    </tr>\n",
              "  </thead>\n",
              "  <tbody>\n",
              "    <tr>\n",
              "      <th>Neg</th>\n",
              "      <td>7969</td>\n",
              "      <td>7923</td>\n",
              "      <td>للأسف</td>\n",
              "      <td>8</td>\n",
              "    </tr>\n",
              "    <tr>\n",
              "      <th>Pos</th>\n",
              "      <td>7390</td>\n",
              "      <td>7331</td>\n",
              "      <td>ممتاز</td>\n",
              "      <td>11</td>\n",
              "    </tr>\n",
              "  </tbody>\n",
              "</table>\n",
              "</div>"
            ],
            "text/plain": [
              "       tweets                    \n",
              "        count unique     top freq\n",
              "labels                           \n",
              "Neg      7969   7923  للأسف     8\n",
              "Pos      7390   7331  ممتاز    11"
            ]
          },
          "execution_count": 16,
          "metadata": {
            "tags": []
          },
          "output_type": "execute_result"
        }
      ],
      "source": [
        "tweets.groupby('labels').describe()"
      ]
    },
    {
      "cell_type": "markdown",
      "metadata": {
        "id": "dRflE3t3Jl7J",
        "pycharm": {
          "name": "#%% md\n"
        }
      },
      "source": [
        "# Text Pre-processing"
      ]
    },
    {
      "cell_type": "markdown",
      "metadata": {
        "id": "NovNJ9MCVjUM",
        "pycharm": {
          "name": "#%% md\n"
        }
      },
      "source": [
        "### Check Null Values"
      ]
    },
    {
      "cell_type": "code",
      "execution_count": null,
      "metadata": {
        "colab": {
          "base_uri": "https://localhost:8080/",
          "height": 68
        },
        "id": "bjwc8lcXVnA1",
        "outputId": "7d7e575b-5e95-49cf-b51d-fa8874616da5",
        "pycharm": {
          "name": "#%%\n"
        }
      },
      "outputs": [
        {
          "data": {
            "text/plain": [
              "tweets    5\n",
              "labels    0\n",
              "dtype: int64"
            ]
          },
          "execution_count": 17,
          "metadata": {
            "tags": []
          },
          "output_type": "execute_result"
        }
      ],
      "source": [
        "tweets.isnull().sum()"
      ]
    },
    {
      "cell_type": "code",
      "execution_count": null,
      "metadata": {
        "colab": {
          "base_uri": "https://localhost:8080/",
          "height": 68
        },
        "id": "FLp2CazAVc5e",
        "outputId": "23dd983f-24a0-4106-a63f-e4453370db85",
        "pycharm": {
          "name": "#%%\n"
        }
      },
      "outputs": [
        {
          "data": {
            "text/plain": [
              "tweets    0\n",
              "labels    0\n",
              "dtype: int64"
            ]
          },
          "execution_count": 18,
          "metadata": {
            "tags": []
          },
          "output_type": "execute_result"
        }
      ],
      "source": [
        "tweets.dropna(inplace=True) #drop null rows\n",
        "tweets.isnull().sum()"
      ]
    },
    {
      "cell_type": "markdown",
      "metadata": {
        "id": "Sgc-IY75VxNp",
        "pycharm": {
          "name": "#%% md\n"
        }
      },
      "source": [
        "### Check Duplicate Recode"
      ]
    },
    {
      "cell_type": "code",
      "execution_count": null,
      "metadata": {
        "colab": {
          "base_uri": "https://localhost:8080/",
          "height": 34
        },
        "id": "abcuGh5mVbjy",
        "outputId": "ad9c44a0-ef4b-468e-da67-cfcdc2df63c7",
        "pycharm": {
          "name": "#%%\n"
        }
      },
      "outputs": [
        {
          "data": {
            "text/plain": [
              "110"
            ]
          },
          "execution_count": 19,
          "metadata": {
            "tags": []
          },
          "output_type": "execute_result"
        }
      ],
      "source": [
        "tweets.tweets.duplicated().sum()"
      ]
    },
    {
      "cell_type": "code",
      "execution_count": null,
      "metadata": {
        "colab": {
          "base_uri": "https://localhost:8080/",
          "height": 419
        },
        "id": "FzZDrRIw-cSr",
        "outputId": "ea83c154-b5cc-48da-bcaa-40152485c092",
        "pycharm": {
          "name": "#%%\n"
        }
      },
      "outputs": [
        {
          "data": {
            "text/html": [
              "<div>\n",
              "<style scoped>\n",
              "    .dataframe tbody tr th:only-of-type {\n",
              "        vertical-align: middle;\n",
              "    }\n",
              "\n",
              "    .dataframe tbody tr th {\n",
              "        vertical-align: top;\n",
              "    }\n",
              "\n",
              "    .dataframe thead th {\n",
              "        text-align: right;\n",
              "    }\n",
              "</style>\n",
              "<table border=\"1\" class=\"dataframe\">\n",
              "  <thead>\n",
              "    <tr style=\"text-align: right;\">\n",
              "      <th></th>\n",
              "      <th>tweets</th>\n",
              "      <th>labels</th>\n",
              "    </tr>\n",
              "  </thead>\n",
              "  <tbody>\n",
              "    <tr>\n",
              "      <th>283</th>\n",
              "      <td>مساء الخير</td>\n",
              "      <td>Pos</td>\n",
              "    </tr>\n",
              "    <tr>\n",
              "      <th>345</th>\n",
              "      <td>مساء السعادة</td>\n",
              "      <td>Pos</td>\n",
              "    </tr>\n",
              "    <tr>\n",
              "      <th>615</th>\n",
              "      <td>رائع</td>\n",
              "      <td>Pos</td>\n",
              "    </tr>\n",
              "    <tr>\n",
              "      <th>822</th>\n",
              "      <td>ممتاز</td>\n",
              "      <td>Pos</td>\n",
              "    </tr>\n",
              "    <tr>\n",
              "      <th>843</th>\n",
              "      <td>ممتاز</td>\n",
              "      <td>Pos</td>\n",
              "    </tr>\n",
              "    <tr>\n",
              "      <th>...</th>\n",
              "      <td>...</td>\n",
              "      <td>...</td>\n",
              "    </tr>\n",
              "    <tr>\n",
              "      <th>13548</th>\n",
              "      <td>@seen_180 انا قدها وانا بصراحه مع تعدد الزوجات</td>\n",
              "      <td>Pos</td>\n",
              "    </tr>\n",
              "    <tr>\n",
              "      <th>13560</th>\n",
              "      <td>RT @bbahth2: #تعدد_الزوجات سبب لنشر العفاف وإع...</td>\n",
              "      <td>Pos</td>\n",
              "    </tr>\n",
              "    <tr>\n",
              "      <th>13644</th>\n",
              "      <td>@Akhbaar24 حسبي الله ونعم الوكيل عليهم ودعمهم ...</td>\n",
              "      <td>Neg</td>\n",
              "    </tr>\n",
              "    <tr>\n",
              "      <th>13647</th>\n",
              "      <td>RT @SAUD_SAIFALNASR: #ابشركم_حنا_بخير تكاليف ا...</td>\n",
              "      <td>Neg</td>\n",
              "    </tr>\n",
              "    <tr>\n",
              "      <th>13648</th>\n",
              "      <td>الراتب موظف لا يكفي لمدة 15 يوم \\n #حملة_تعديل...</td>\n",
              "      <td>Neg</td>\n",
              "    </tr>\n",
              "  </tbody>\n",
              "</table>\n",
              "<p>110 rows × 2 columns</p>\n",
              "</div>"
            ],
            "text/plain": [
              "                                                  tweets labels\n",
              "283                                          مساء الخير     Pos\n",
              "345                                        مساء السعادة     Pos\n",
              "615                                                رائع     Pos\n",
              "822                                               ممتاز     Pos\n",
              "843                                               ممتاز     Pos\n",
              "...                                                  ...    ...\n",
              "13548     @seen_180 انا قدها وانا بصراحه مع تعدد الزوجات    Pos\n",
              "13560  RT @bbahth2: #تعدد_الزوجات سبب لنشر العفاف وإع...    Pos\n",
              "13644  @Akhbaar24 حسبي الله ونعم الوكيل عليهم ودعمهم ...    Neg\n",
              "13647  RT @SAUD_SAIFALNASR: #ابشركم_حنا_بخير تكاليف ا...    Neg\n",
              "13648  الراتب موظف لا يكفي لمدة 15 يوم \\n #حملة_تعديل...    Neg\n",
              "\n",
              "[110 rows x 2 columns]"
            ]
          },
          "execution_count": 20,
          "metadata": {
            "tags": []
          },
          "output_type": "execute_result"
        }
      ],
      "source": [
        "tweets.loc[tweets.tweets.duplicated(),:] #duplicate recode"
      ]
    },
    {
      "cell_type": "code",
      "execution_count": null,
      "metadata": {
        "id": "6YZEfSn__QVS",
        "pycharm": {
          "name": "#%%\n"
        }
      },
      "outputs": [],
      "source": [
        "tweets.drop_duplicates(subset=['tweets'],keep='first',inplace=True) # drop duplicates and kepp one of them"
      ]
    },
    {
      "cell_type": "code",
      "execution_count": null,
      "metadata": {
        "colab": {
          "base_uri": "https://localhost:8080/",
          "height": 34
        },
        "id": "8aLlXUxh_j3A",
        "outputId": "55834976-9b67-480e-900f-179295783e5e",
        "pycharm": {
          "name": "#%%\n"
        }
      },
      "outputs": [
        {
          "data": {
            "text/plain": [
              "0"
            ]
          },
          "execution_count": 22,
          "metadata": {
            "tags": []
          },
          "output_type": "execute_result"
        }
      ],
      "source": [
        "tweets.tweets.duplicated().sum()"
      ]
    },
    {
      "cell_type": "markdown",
      "metadata": {
        "id": "0swUpsO4_Q8D",
        "pycharm": {
          "name": "#%% md\n"
        }
      },
      "source": [
        "## Clean Text\n",
        "Let's create a function that will process the string in the tweets column, then we can just use apply() in pandas do process all the text in the DataFrame."
      ]
    },
    {
      "cell_type": "code",
      "execution_count": null,
      "metadata": {
        "id": "jIbgoYVHJhm6",
        "pycharm": {
          "name": "#%%\n"
        }
      },
      "outputs": [],
      "source": [
        "# Arabic diacritics\n",
        "arabic_punct = ''' ` ÷ × ؛ < > _ ( ) * & ^ % ] [ ـ ، / : \" ? ؟ . , ' { } ~ ¦ + | !  ”  …  “ –   ـ  '''\n",
        "arabic_diacritics = '''  َ     ُ       ِ      ّ       ً      ٌ       ٍ      ْ     '''\n",
        "english_punctuations = string.punctuation\n",
        "\n",
        "arabic_punct = arabic_punct.split()\n",
        "arabic_diacritics = arabic_diacritics.split()\n",
        "\n",
        "# Arabic punctuations and dicritis \n",
        "punctuations = str(arabic_punct  + arabic_diacritics)\n",
        "punctuations=punctuations+english_punctuations\n",
        "# Arabic stopwords\n",
        "asw = open('/content//stop_words.txt', encoding=\"utf8\").read()\n",
        "\n",
        "arabicStopWords =  set(asw.split())"
      ]
    },
    {
      "cell_type": "code",
      "execution_count": null,
      "metadata": {
        "id": "zIL7NmBK958F",
        "pycharm": {
          "name": "#%%\n"
        }
      },
      "outputs": [],
      "source": [
        "# remove arabic diacritics\n",
        "def remove_diacritics(text):\n",
        "\tarstemmer = ISRIStemmer()\n",
        "\tresult = arstemmer.norm(text, num=1) #  remove diacritics which representing Arabic short vowels\n",
        "\treturn result"
      ]
    },
    {
      "cell_type": "code",
      "execution_count": null,
      "metadata": {
        "id": "zzjnLXaO958I",
        "pycharm": {
          "name": "#%%\n"
        }
      },
      "outputs": [],
      "source": [
        "regex = re.compile('[%s]' % re.escape(punctuations))\n",
        "# remove punctcutions\n",
        "def remove_punct(word):\n",
        "  return regex.sub(' ', word)\n",
        "  #return word.translate(str.maketrans('','',punctuations))"
      ]
    },
    {
      "cell_type": "code",
      "execution_count": null,
      "metadata": {
        "id": "_8NuwMBC9Rbk",
        "pycharm": {
          "name": "#%%\n"
        }
      },
      "outputs": [],
      "source": [
        "def reove_eng_word(word):\n",
        "    text=re.sub(r'[0-9]', '' , word)\n",
        "    return re.sub(r'[a-z]+', '' , text)"
      ]
    },
    {
      "cell_type": "code",
      "execution_count": null,
      "metadata": {
        "id": "B62bH35GBj4I",
        "pycharm": {
          "name": "#%%\n"
        }
      },
      "outputs": [],
      "source": [
        "emoji_pattern = re.compile(\"[\"\n",
        "                           u\"\\U0001F600-\\U0001F64F\"  # emoticons\n",
        "                           u\"\\U0001F300-\\U0001F5FF\"  # symbols & pictographs\n",
        "                           u\"\\U0001F680-\\U0001F6FF\"  # transport & map symbols\n",
        "                           u\"\\U0001F1E0-\\U0001F1FF\"  # flags (iOS)\n",
        "                           u\"\\U00002702-\\U000027B0\"\n",
        "                           u\"\\U000024C2-\\U0001F251\"\n",
        "                           \"]+\", flags=re.UNICODE)\n",
        "def remove_emojies(string):\n",
        "    return emoji_pattern.sub(r'', string)"
      ]
    },
    {
      "cell_type": "code",
      "execution_count": null,
      "metadata": {
        "id": "YvMKzWGH958K",
        "pycharm": {
          "name": "#%%\n"
        }
      },
      "outputs": [],
      "source": [
        "def process_text(text, removePunct=True, removeSW=False, removeNum=True,removeEng=True,remove_emoji=True):\n",
        "\t'''\n",
        "\t1. remove arabic diacritics\n",
        "\t2. remove punctcutions\n",
        "\t3. remove stopwords if removeSW=True\n",
        "\t4. remove numbers if removeNum=True\n",
        "\t'''\n",
        "\ttext = remove_diacritics(text)  # remove arabic diacritics\n",
        "\tword_list = nltk.tokenize.wordpunct_tokenize(text.lower())\n",
        "\tif removePunct:\n",
        "\t\tword_list = [ w for w in word_list if not w in punctuations ]\n",
        "\t\tword_list = [ remove_punct(w) for w in word_list ]\n",
        "\n",
        "\tif removeSW: word_list = [ w for w in word_list if not w in arabicStopWords ]\n",
        "\tif removeEng: \n",
        "\t\tword_list  = [ reove_eng_word(w) for w in word_list ]\n",
        "\tif remove_emoji:\n",
        "\t\tword_list  = [ remove_emojies(w) for w in word_list ]\n",
        "\t#if removeNum: word_list = [ w for w in word_list if not w.isdigit() ]\n",
        "\tword_list = [ w for w in word_list if w] # remove empty words\n",
        "\t#return ' '.join(word_list)\n",
        "\treturn (re.sub(' +', ' ', ' '.join(word_list))).strip() # remove spaces more then 1 ."
      ]
    },
    {
      "cell_type": "code",
      "execution_count": null,
      "metadata": {
        "colab": {
          "base_uri": "https://localhost:8080/",
          "height": 34
        },
        "id": "EQso5ox4958Q",
        "outputId": "28506b1c-fcd8-4bc0-9fc1-fca3e48263cc",
        "pycharm": {
          "name": "#%%\n"
        }
      },
      "outputs": [
        {
          "data": {
            "text/plain": [
              "'! رسايلك صوتك سوالفك طاريك والله إنها للقلب مصدر سعادة ء ء'"
            ]
          },
          "execution_count": 29,
          "metadata": {
            "tags": []
          },
          "output_type": "execute_result"
        }
      ],
      "source": [
        "tweets['tweets'][1]"
      ]
    },
    {
      "cell_type": "code",
      "execution_count": null,
      "metadata": {
        "colab": {
          "base_uri": "https://localhost:8080/",
          "height": 34
        },
        "id": "KaFlkOV4958T",
        "outputId": "d3a27a15-351d-423e-a880-667e052fb3db",
        "pycharm": {
          "name": "#%%\n"
        }
      },
      "outputs": [
        {
          "data": {
            "text/plain": [
              "'رسايلك صوتك سوالفك طاريك والله إنها للقلب مصدر سعادة ء ء'"
            ]
          },
          "execution_count": 30,
          "metadata": {
            "tags": []
          },
          "output_type": "execute_result"
        }
      ],
      "source": [
        "process_text(tweets['tweets'][1])"
      ]
    },
    {
      "cell_type": "code",
      "execution_count": null,
      "metadata": {
        "colab": {
          "base_uri": "https://localhost:8080/",
          "height": 34
        },
        "id": "jb-besbmWFmL",
        "outputId": "4fb1e075-70a6-4b76-86ea-593f928441df",
        "pycharm": {
          "name": "#%%\n"
        }
      },
      "outputs": [
        {
          "data": {
            "text/plain": [
              "'RT @___IHAVENOIDEA: حقوق المرأة في الإسلام. https://t.co/ps3qNw1CbB'"
            ]
          },
          "execution_count": 31,
          "metadata": {
            "tags": []
          },
          "output_type": "execute_result"
        }
      ],
      "source": [
        "new_data['tweets'][1]"
      ]
    },
    {
      "cell_type": "code",
      "execution_count": null,
      "metadata": {
        "colab": {
          "base_uri": "https://localhost:8080/",
          "height": 34
        },
        "id": "PjNHYhstWKAH",
        "outputId": "516303e8-26ec-4481-999a-16afd609c2f9",
        "pycharm": {
          "name": "#%%\n"
        }
      },
      "outputs": [
        {
          "data": {
            "text/plain": [
              "'حقوق المرأة في الإسلام'"
            ]
          },
          "execution_count": 32,
          "metadata": {
            "tags": []
          },
          "output_type": "execute_result"
        }
      ],
      "source": [
        "process_text(new_data['tweets'][1])"
      ]
    },
    {
      "cell_type": "code",
      "execution_count": null,
      "metadata": {
        "colab": {
          "base_uri": "https://localhost:8080/",
          "height": 34
        },
        "id": "TgcxrYGXXBWj",
        "outputId": "1c4b4748-2468-4340-e204-6e399813bd8a",
        "pycharm": {
          "name": "#%%\n"
        }
      },
      "outputs": [
        {
          "data": {
            "text/plain": [
              "'حقوق المرأة 💚💚💚 https://t.co/Mzf90Ta5g1'"
            ]
          },
          "execution_count": 33,
          "metadata": {
            "tags": []
          },
          "output_type": "execute_result"
        }
      ],
      "source": [
        "new_data['tweets'][0]"
      ]
    },
    {
      "cell_type": "code",
      "execution_count": null,
      "metadata": {
        "colab": {
          "base_uri": "https://localhost:8080/",
          "height": 34
        },
        "id": "N3X7TZQ1XFQ1",
        "outputId": "bccac4a1-a6bd-4d60-fedd-d7aebccb44c8",
        "pycharm": {
          "name": "#%%\n"
        }
      },
      "outputs": [
        {
          "data": {
            "text/plain": [
              "'حقوق المرأة'"
            ]
          },
          "execution_count": 34,
          "metadata": {
            "tags": []
          },
          "output_type": "execute_result"
        }
      ],
      "source": [
        "process_text(new_data['tweets'][0])"
      ]
    },
    {
      "cell_type": "markdown",
      "metadata": {
        "id": "9fUeaQ4UKwc1",
        "pycharm": {
          "name": "#%% md\n"
        }
      },
      "source": [
        "Apply this function now to all tweets"
      ]
    },
    {
      "cell_type": "code",
      "execution_count": null,
      "metadata": {
        "id": "VPKo_6_U958b",
        "pycharm": {
          "name": "#%%\n"
        }
      },
      "outputs": [],
      "source": [
        "tweets['tweets'] = tweets['tweets'].apply(process_text) # apply it to all tweets"
      ]
    },
    {
      "cell_type": "code",
      "execution_count": null,
      "metadata": {
        "colab": {
          "base_uri": "https://localhost:8080/",
          "height": 204
        },
        "id": "jPhhetA0NRUA",
        "outputId": "681f3e25-a515-49da-a045-f3a5494808e9",
        "pycharm": {
          "name": "#%%\n"
        }
      },
      "outputs": [
        {
          "data": {
            "text/html": [
              "<div>\n",
              "<style scoped>\n",
              "    .dataframe tbody tr th:only-of-type {\n",
              "        vertical-align: middle;\n",
              "    }\n",
              "\n",
              "    .dataframe tbody tr th {\n",
              "        vertical-align: top;\n",
              "    }\n",
              "\n",
              "    .dataframe thead th {\n",
              "        text-align: right;\n",
              "    }\n",
              "</style>\n",
              "<table border=\"1\" class=\"dataframe\">\n",
              "  <thead>\n",
              "    <tr style=\"text-align: right;\">\n",
              "      <th></th>\n",
              "      <th>tweets</th>\n",
              "      <th>labels</th>\n",
              "    </tr>\n",
              "  </thead>\n",
              "  <tbody>\n",
              "    <tr>\n",
              "      <th>0</th>\n",
              "      <td>لا تجد قوما أشد سعادة في الدنيا ولا أوسع صدورا...</td>\n",
              "      <td>Pos</td>\n",
              "    </tr>\n",
              "    <tr>\n",
              "      <th>1</th>\n",
              "      <td>رسايلك صوتك سوالفك طاريك والله إنها للقلب مصدر...</td>\n",
              "      <td>Pos</td>\n",
              "    </tr>\n",
              "    <tr>\n",
              "      <th>2</th>\n",
              "      <td>سعادة الآخرين لن تؤخذ من سعادتك</td>\n",
              "      <td>Pos</td>\n",
              "    </tr>\n",
              "    <tr>\n",
              "      <th>3</th>\n",
              "      <td>المعصية لها توبة</td>\n",
              "      <td>Pos</td>\n",
              "    </tr>\n",
              "    <tr>\n",
              "      <th>4</th>\n",
              "      <td>مساء السعادة</td>\n",
              "      <td>Pos</td>\n",
              "    </tr>\n",
              "  </tbody>\n",
              "</table>\n",
              "</div>"
            ],
            "text/plain": [
              "                                              tweets labels\n",
              "0  لا تجد قوما أشد سعادة في الدنيا ولا أوسع صدورا...    Pos\n",
              "1  رسايلك صوتك سوالفك طاريك والله إنها للقلب مصدر...    Pos\n",
              "2                    سعادة الآخرين لن تؤخذ من سعادتك    Pos\n",
              "3                                   المعصية لها توبة    Pos\n",
              "4                                       مساء السعادة    Pos"
            ]
          },
          "execution_count": 36,
          "metadata": {
            "tags": []
          },
          "output_type": "execute_result"
        }
      ],
      "source": [
        "tweets.head(5)"
      ]
    },
    {
      "cell_type": "markdown",
      "metadata": {
        "id": "2qOIaQ-lCmqx",
        "pycharm": {
          "name": "#%% md\n"
        }
      },
      "source": [
        "As we continue our analysis we want to start thinking about the features we are going to be using. This goes along with the general idea of [feature engineering](https://en.wikipedia.org/wiki/Feature_engineering). The better your domain knowledge on the data, the better your ability to engineer more features from it. I encourage you to read up on the topic!\n",
        "\n",
        "Let's make a new column to detect how long the text messages are:"
      ]
    },
    {
      "cell_type": "code",
      "execution_count": null,
      "metadata": {
        "colab": {
          "base_uri": "https://localhost:8080/",
          "height": 204
        },
        "id": "iKxQSBx1WXcN",
        "outputId": "84edf362-e16d-4994-cbe3-6a2551628b1d",
        "pycharm": {
          "name": "#%%\n"
        }
      },
      "outputs": [
        {
          "data": {
            "text/html": [
              "<div>\n",
              "<style scoped>\n",
              "    .dataframe tbody tr th:only-of-type {\n",
              "        vertical-align: middle;\n",
              "    }\n",
              "\n",
              "    .dataframe tbody tr th {\n",
              "        vertical-align: top;\n",
              "    }\n",
              "\n",
              "    .dataframe thead th {\n",
              "        text-align: right;\n",
              "    }\n",
              "</style>\n",
              "<table border=\"1\" class=\"dataframe\">\n",
              "  <thead>\n",
              "    <tr style=\"text-align: right;\">\n",
              "      <th></th>\n",
              "      <th>tweets</th>\n",
              "      <th>labels</th>\n",
              "      <th>length</th>\n",
              "    </tr>\n",
              "  </thead>\n",
              "  <tbody>\n",
              "    <tr>\n",
              "      <th>0</th>\n",
              "      <td>لا تجد قوما أشد سعادة في الدنيا ولا أوسع صدورا...</td>\n",
              "      <td>Pos</td>\n",
              "      <td>131</td>\n",
              "    </tr>\n",
              "    <tr>\n",
              "      <th>1</th>\n",
              "      <td>رسايلك صوتك سوالفك طاريك والله إنها للقلب مصدر...</td>\n",
              "      <td>Pos</td>\n",
              "      <td>56</td>\n",
              "    </tr>\n",
              "    <tr>\n",
              "      <th>2</th>\n",
              "      <td>سعادة الآخرين لن تؤخذ من سعادتك</td>\n",
              "      <td>Pos</td>\n",
              "      <td>31</td>\n",
              "    </tr>\n",
              "    <tr>\n",
              "      <th>3</th>\n",
              "      <td>المعصية لها توبة</td>\n",
              "      <td>Pos</td>\n",
              "      <td>16</td>\n",
              "    </tr>\n",
              "    <tr>\n",
              "      <th>4</th>\n",
              "      <td>مساء السعادة</td>\n",
              "      <td>Pos</td>\n",
              "      <td>12</td>\n",
              "    </tr>\n",
              "  </tbody>\n",
              "</table>\n",
              "</div>"
            ],
            "text/plain": [
              "                                              tweets labels  length\n",
              "0  لا تجد قوما أشد سعادة في الدنيا ولا أوسع صدورا...    Pos     131\n",
              "1  رسايلك صوتك سوالفك طاريك والله إنها للقلب مصدر...    Pos      56\n",
              "2                    سعادة الآخرين لن تؤخذ من سعادتك    Pos      31\n",
              "3                                   المعصية لها توبة    Pos      16\n",
              "4                                       مساء السعادة    Pos      12"
            ]
          },
          "execution_count": 37,
          "metadata": {
            "tags": []
          },
          "output_type": "execute_result"
        }
      ],
      "source": [
        "tweets['length'] = tweets['tweets'].str.len() #check Leanth of Each tweet\n",
        "tweets.head()"
      ]
    },
    {
      "cell_type": "code",
      "execution_count": null,
      "metadata": {
        "colab": {
          "base_uri": "https://localhost:8080/",
          "height": 170
        },
        "id": "IXXx5QdoWKNb",
        "outputId": "ac557a37-f1e9-4a1f-e6fc-4f6f560f68ec",
        "pycharm": {
          "name": "#%%\n"
        }
      },
      "outputs": [
        {
          "data": {
            "text/plain": [
              "count    15249.000000\n",
              "mean        87.172601\n",
              "std         59.223386\n",
              "min          0.000000\n",
              "25%         42.000000\n",
              "50%         76.000000\n",
              "75%        118.000000\n",
              "max        280.000000\n",
              "Name: length, dtype: float64"
            ]
          },
          "execution_count": 38,
          "metadata": {
            "tags": []
          },
          "output_type": "execute_result"
        }
      ],
      "source": [
        "tweets.length.describe()"
      ]
    },
    {
      "cell_type": "markdown",
      "metadata": {
        "id": "tbarS-mhDH43",
        "pycharm": {
          "name": "#%% md\n"
        }
      },
      "source": [
        "Maximum tweet leanth is 185."
      ]
    },
    {
      "cell_type": "code",
      "execution_count": null,
      "metadata": {
        "id": "iR6TU7hs959a",
        "pycharm": {
          "name": "#%%\n"
        }
      },
      "outputs": [],
      "source": [
        "tweets = tweets.sample(frac=1,random_state=30).reset_index(drop=True) #shuffle data frame"
      ]
    },
    {
      "cell_type": "markdown",
      "metadata": {
        "id": "86cw7SzmDBQf",
        "pycharm": {
          "name": "#%% md\n"
        }
      },
      "source": [
        "# Data Visualization\n",
        "Let's visualize this! Let's do the imports:"
      ]
    },
    {
      "cell_type": "code",
      "execution_count": null,
      "metadata": {
        "id": "phsgrv6M-ZJd",
        "pycharm": {
          "name": "#%%\n"
        }
      },
      "outputs": [],
      "source": [
        "import matplotlib.pyplot as plt\n",
        "import seaborn as sns\n",
        "\n",
        "%matplotlib inline\n"
      ]
    },
    {
      "cell_type": "code",
      "execution_count": null,
      "metadata": {
        "colab": {
          "base_uri": "https://localhost:8080/",
          "height": 296
        },
        "id": "L0y51cWQDWCX",
        "outputId": "0a15fd8d-2f5a-4240-e2e8-9aea650d6163",
        "pycharm": {
          "name": "#%%\n"
        }
      },
      "outputs": [
        {
          "data": {
            "text/plain": [
              "<matplotlib.axes._subplots.AxesSubplot at 0x7f9998fd8ef0>"
            ]
          },
          "execution_count": 41,
          "metadata": {
            "tags": []
          },
          "output_type": "execute_result"
        },
        {
          "data": {
            "image/png": "[encoded data removed]",
            "text/plain": [
              "<Figure size 432x288 with 1 Axes>"
            ]
          },
          "metadata": {
            "tags": []
          },
          "output_type": "display_data"
        }
      ],
      "source": [
        "sns.set_style('whitegrid')\n",
        "sns.distplot(tweets['length'],bins=25)"
      ]
    },
    {
      "cell_type": "code",
      "execution_count": null,
      "metadata": {
        "colab": {
          "base_uri": "https://localhost:8080/",
          "height": 340
        },
        "id": "zVo9-Yf2D_tw",
        "outputId": "8a816a75-9b6c-4fdd-85a5-2fc29ceb347b",
        "pycharm": {
          "name": "#%%\n"
        }
      },
      "outputs": [
        {
          "data": {
            "text/plain": [
              "array([<matplotlib.axes._subplots.AxesSubplot object at 0x7f9998818438>,\n",
              "       <matplotlib.axes._subplots.AxesSubplot object at 0x7f99987ca198>],\n",
              "      dtype=object)"
            ]
          },
          "execution_count": 42,
          "metadata": {
            "tags": []
          },
          "output_type": "execute_result"
        },
        {
          "data": {
            "image/png": "[encoded data removed]",
            "text/plain": [
              "<Figure size 864x288 with 2 Axes>"
            ]
          },
          "metadata": {
            "tags": []
          },
          "output_type": "display_data"
        }
      ],
      "source": [
        "tweets.hist(column='length', by='labels', bins=25,figsize=(12,4))"
      ]
    },
    {
      "cell_type": "markdown",
      "metadata": {
        "id": "2-Xh0mlmdizE",
        "pycharm": {
          "name": "#%% md\n"
        }
      },
      "source": [
        "# Prepare Data"
      ]
    },
    {
      "cell_type": "code",
      "execution_count": null,
      "metadata": {
        "id": "I7bKUtY5bO3l",
        "pycharm": {
          "name": "#%%\n"
        }
      },
      "outputs": [],
      "source": [
        "\n",
        "from tensorflow.python.keras import initializers\n",
        "from tensorflow.python.keras import regularizers\n",
        "\n",
        "from tensorflow.python.keras.layers import Dense\n",
        "from tensorflow.python.keras.layers import Dropout\n",
        "from tensorflow.python.keras.layers import Embedding\n",
        "from tensorflow.python.keras.layers import MaxPooling1D\n",
        "from tensorflow.python.keras.layers import GlobalMaxPool1D"
      ]
    },
    {
      "cell_type": "markdown",
      "metadata": {
        "id": "qMBe_iCDMMso",
        "pycharm": {
          "name": "#%% md\n"
        }
      },
      "source": [
        "### Encoding\n",
        "Encode class data to numeric format"
      ]
    },
    {
      "cell_type": "code",
      "execution_count": null,
      "metadata": {
        "id": "GBhAYLK3esFN",
        "pycharm": {
          "name": "#%%\n"
        }
      },
      "outputs": [],
      "source": [
        "tweets['labels']= tweets['labels'].map( {'Pos':1, 'Neg': 0} ).astype(int)"
      ]
    },
    {
      "cell_type": "markdown",
      "metadata": {
        "id": "US8h0NNQMBM0",
        "pycharm": {
          "name": "#%% md\n"
        }
      },
      "source": [
        "# Train_Test_Split"
      ]
    },
    {
      "cell_type": "markdown",
      "metadata": {
        "id": "gTUx-jq-LeP0",
        "pycharm": {
          "name": "#%% md\n"
        }
      },
      "source": [
        "We will convert our data in three parts, training,validation and testing. We train our model on traing and tune on validation and then test it on testing data"
      ]
    },
    {
      "cell_type": "code",
      "execution_count": null,
      "metadata": {
        "id": "vb8XpgFwdxJl",
        "pycharm": {
          "name": "#%%\n"
        }
      },
      "outputs": [],
      "source": [
        "X_train, X_test, y_train, y_test = train_test_split(\n",
        "    tweets['tweets'], tweets['labels'], random_state=0,stratify=tweets['labels'],test_size=0.30,shuffle=True)"
      ]
    },
    {
      "cell_type": "code",
      "execution_count": null,
      "metadata": {
        "id": "7RgDTGZmslsy",
        "pycharm": {
          "name": "#%%\n"
        }
      },
      "outputs": [],
      "source": [
        "X_train, X_val, y_train, y_val = train_test_split(\n",
        "    X_train, y_train, random_state=0,stratify=y_train,test_size=0.10,shuffle=True)"
      ]
    },
    {
      "cell_type": "markdown",
      "metadata": {
        "id": "knYRmoZxNTFl",
        "pycharm": {
          "name": "#%% md\n"
        }
      },
      "source": [
        "Before our data can be fed to a model, it needs to be transformed to a format the model can understand. This means that we will need to convert the texts into numerical vectors."
      ]
    },
    {
      "cell_type": "code",
      "execution_count": null,
      "metadata": {
        "id": "RYbKnrBg0Q3k",
        "pycharm": {
          "name": "#%%\n"
        }
      },
      "outputs": [],
      "source": [
        "# Vectorization parameters\n",
        "# Limit on the number of features. We use the top 20K features.\n",
        "TOP_K = 20000\n",
        "# Limit on the length of text sequences. Sequences longer than this will be truncated.\n",
        "MAX_SEQUENCE_LENGTH = 200\n",
        "\n",
        "def sequence_vectorize(train_texts, val_texts):\n",
        "    \"\"\"\n",
        "    Vectorizes texts as sequence vectors.\n",
        "    1 text = 1 sequence vector with fixed length.\n",
        "    \"\"\"\n",
        "    # Create vocabulary with training texts.\n",
        "    tokenizer = text.Tokenizer(num_words=TOP_K)\n",
        "    tokenizer.fit_on_texts(train_texts)\n",
        "\n",
        "    # Vectorize training and validation texts.\n",
        "    x_train = tokenizer.texts_to_sequences(train_texts)\n",
        "    x_val = tokenizer.texts_to_sequences(val_texts)\n",
        "\n",
        "    # Get max sequence length.\n",
        "    max_length = len(max(x_train, key=len))\n",
        "    if max_length > MAX_SEQUENCE_LENGTH:\n",
        "        max_length = MAX_SEQUENCE_LENGTH\n",
        "\n",
        "    # Fix sequence length to max value. Sequences shorter than the length are\n",
        "    # padded in the beginning and sequences longer are truncated\n",
        "    # at the beginning.\n",
        "    x_train = sequence.pad_sequences(x_train, maxlen=max_length)\n",
        "    x_val = sequence.pad_sequences(x_val, maxlen=max_length)\n",
        "    return x_train, x_val, tokenizer.word_index,tokenizer,max_length"
      ]
    },
    {
      "cell_type": "markdown",
      "metadata": {
        "id": "8VoeVu7MQFRj",
        "pycharm": {
          "name": "#%% md\n"
        }
      },
      "source": [
        "# Build, Train, and Evaluate Your Model"
      ]
    },
    {
      "cell_type": "code",
      "execution_count": null,
      "metadata": {
        "id": "dD6BOnEB7LBO",
        "pycharm": {
          "name": "#%%\n"
        }
      },
      "outputs": [],
      "source": [
        "def _get_last_layer_units_and_activation(num_classes):\n",
        "    \"\"\"\n",
        "    Gets the number of output neuron  and \n",
        "    activation function for the last network layer.\n",
        "    \"\"\"\n",
        "    if num_classes == 2:\n",
        "        activation = 'sigmoid'\n",
        "        units = 1\n",
        "    else:\n",
        "        activation = 'softmax'\n",
        "        units = num_classes\n",
        "    return units, activation\n",
        "    "
      ]
    },
    {
      "cell_type": "markdown",
      "metadata": {
        "id": "uk3BpX_1RAcj",
        "pycharm": {
          "name": "#%% md\n"
        }
      },
      "source": [
        "### Model Architecture\n"
      ]
    },
    {
      "cell_type": "code",
      "execution_count": null,
      "metadata": {
        "id": "qYQ19nTf0RHt",
        "pycharm": {
          "name": "#%%\n"
        }
      },
      "outputs": [],
      "source": [
        "def sequence_model(\n",
        "                 embedding_dim,\n",
        "                 dropout_rate,\n",
        "                 input_shape,\n",
        "                 num_classes,\n",
        "                 num_features\n",
        "                 ):\n",
        "    \"\"\"\n",
        "    Creates an instance of a sequence_model\n",
        "\n",
        "    # Arguments\n",
        "        embedding_dim: int, dimension of the embedding vectors.\n",
        "        dropout_rate: float, percentage of input to drop at Dropout layers.\n",
        "        input_shape: tuple, shape of input to the model.\n",
        "        num_classes: int, number of output classes.\n",
        "        num_features: int, number of words (embedding input dimension).\n",
        "    # Returns\n",
        "        A sequence model instance.\n",
        "    \"\"\"\n",
        "    op_units, op_activation = _get_last_layer_units_and_activation(num_classes) #get op_unit and output activation function\n",
        "\n",
        "    #Model Architecture\n",
        "    model = models.Sequential()\n",
        "    model.add(Embedding(input_dim=num_features,\n",
        "                            output_dim=embedding_dim,\n",
        "                            input_length=input_shape[0]))\n",
        "    model.add(GlobalMaxPool1D())\n",
        "    model.add(Dense(embedding_dim, activation = 'relu'))\n",
        "    model.add(Dropout(rate=dropout_rate))\n",
        "    model.add(Dense(op_units, op_activation))\n",
        "    return model"
      ]
    },
    {
      "cell_type": "markdown",
      "metadata": {
        "id": "wJfLYKPBT9eM",
        "pycharm": {
          "name": "#%% md\n"
        }
      },
      "source": [
        "### Number Of classes"
      ]
    },
    {
      "cell_type": "code",
      "execution_count": null,
      "metadata": {
        "id": "Vmmp4XbR2a5w",
        "pycharm": {
          "name": "#%%\n"
        }
      },
      "outputs": [],
      "source": [
        "def get_num_classes(labels):\n",
        "    \"\"\"\n",
        "    Gets the total number of classes\n",
        "    # Arguments\n",
        "        labels: label values\n",
        "    # Returns\n",
        "             total number of classes.\n",
        "    \"\"\"\n",
        "    num_classes = max(labels) + 1\n",
        "    missing_classes = [i for i in range(num_classes) if i not in labels]\n",
        "    if len(missing_classes):\n",
        "        raise ValueError('Missing samples with label value(s) '\n",
        "                         '{missing_classes}. Please make sure you have '\n",
        "                         'at least one sample for every label value '\n",
        "                         'in the range(0, {max_class})'.format(\n",
        "                            missing_classes=missing_classes,\n",
        "                            max_class=num_classes - 1))\n",
        "\n",
        "    if num_classes <= 1:\n",
        "        raise ValueError('Invalid number of labels: {num_classes}.'\n",
        "                         'Please make sure there are at least two classes '\n",
        "                         'of samples'.format(num_classes=num_classes))\n",
        "    return num_classes"
      ]
    },
    {
      "cell_type": "markdown",
      "metadata": {
        "id": "bynQBGPHVk3X",
        "pycharm": {
          "name": "#%% md\n"
        }
      },
      "source": [
        "## Data Generator\n",
        "genrate data in term of baches"
      ]
    },
    {
      "cell_type": "code",
      "execution_count": null,
      "metadata": {
        "id": "QimWk_DLWCR6",
        "pycharm": {
          "name": "#%%\n"
        }
      },
      "outputs": [],
      "source": [
        "def _data_generator(x, y, num_features, batch_size):\n",
        "    \"\"\"\n",
        "    Generates batches of vectorized texts for training/validation\n",
        "\n",
        "    # Arguments\n",
        "        x: feature matrix.\n",
        "        y:  labels.\n",
        "        num_features:  number of features.\n",
        "        batch_size: number of samples per batch.\n",
        "    # Returns\n",
        "        Yields feature and label data in batches.\n",
        "    \"\"\"\n",
        "    num_samples = x.shape[0]\n",
        "    num_batches = num_samples // batch_size\n",
        "    if num_samples % batch_size:\n",
        "        num_batches += 1\n",
        "\n",
        "    while 1:\n",
        "        for i in range(num_batches):\n",
        "            start_idx = i * batch_size\n",
        "            end_idx = (i + 1) * batch_size\n",
        "            if end_idx > num_samples:\n",
        "                end_idx = num_samples\n",
        "            x_batch = x[start_idx:end_idx]\n",
        "            y_batch = y[start_idx:end_idx]\n",
        "            yield x_batch, y_batch"
      ]
    },
    {
      "cell_type": "markdown",
      "metadata": {
        "id": "zF_h0LsDWic-",
        "pycharm": {
          "name": "#%% md\n"
        }
      },
      "source": [
        "## Train Model"
      ]
    },
    {
      "cell_type": "code",
      "execution_count": null,
      "metadata": {
        "id": "rgaGOEXt0RnL",
        "pycharm": {
          "name": "#%%\n"
        }
      },
      "outputs": [],
      "source": [
        "def batch_train_sequence_model(data,\n",
        "                               learning_rate=1e-3,\n",
        "                               epochs=70,\n",
        "                               batch_size=1000,\n",
        "                               dropout_rate=0.2,\n",
        "                               embedding_dim=32,\n",
        "                               ):\n",
        "    \"\"\"Trains sequence model on the given dataset.\n",
        "    # Arguments\n",
        "        data: tuples of training and test texts and labels.\n",
        "        learning_rate: learning rate for training model.\n",
        "        epochs: number of epochs.\n",
        "        batch_size:  number of samples per batch.\n",
        "        dropout_rate: percentage of input to drop at Dropout layers.\n",
        "        embedding_dim: dimension of the embedding vectors.\n",
        "    \"\"\"\n",
        "    # Get the data.\n",
        "    (train_texts, train_labels), (val_texts, val_labels) = data\n",
        "\n",
        "    # Verify that validation labels are in the same range as training labels.\n",
        "    num_classes = get_num_classes(train_labels)\n",
        "    unexpected_labels = [v for v in val_labels if v not in range(num_classes)]\n",
        "    if len(unexpected_labels):\n",
        "        raise ValueError('Unexpected label values found in the validation set:'\n",
        "                         ' {unexpected_labels}. Please make sure that the '\n",
        "                         'labels in the validation set are in the same range '\n",
        "                         'as training labels.'.format(\n",
        "                             unexpected_labels=unexpected_labels))\n",
        "\n",
        "    # Vectorize texts.\n",
        "    x_train, x_val, word_index,tokenizer,max_length = sequence_vectorize(\n",
        "            train_texts, val_texts)\n",
        "\n",
        "    # Number of features will be the embedding input dimension. Add 1 for the\n",
        "    # reserved index 0 for padding\n",
        "    num_features = min(len(word_index) + 1, TOP_K)\n",
        "\n",
        "    # Create model instance.\n",
        "    model = sequence_model( embedding_dim=embedding_dim,\n",
        "                                     dropout_rate=dropout_rate,\n",
        "                                     input_shape=x_train.shape[1:],\n",
        "                                     num_classes=num_classes,\n",
        "                                     num_features=num_features)\n",
        "\n",
        "    # Compile model with learning parameters.\n",
        "    if num_classes == 2:\n",
        "        loss = 'binary_crossentropy' # if number of classes is two then use this loss function else\n",
        "    else:\n",
        "        loss = 'sparse_categorical_crossentropy'\n",
        "    optimizer = tf.keras.optimizers.Adam(lr=learning_rate)\n",
        "    model.compile(optimizer=optimizer, loss=loss, metrics=['acc'])\n",
        "\n",
        "    # Create callback for early stopping on validation loss. If the loss does\n",
        "    # not decrease in two consecutive tries, stop training.\n",
        "    callbacks = [tf.keras.callbacks.EarlyStopping(\n",
        "        monitor='val_loss', patience=2)]\n",
        "\n",
        "    # Create training and validation generators.\n",
        "    training_generator = _data_generator(\n",
        "        x_train, train_labels, num_features, batch_size)\n",
        "    validation_generator = _data_generator(\n",
        "        x_val, val_labels, num_features, batch_size)\n",
        "\n",
        "    # Get number of training steps. This indicated the number of steps it takes\n",
        "    # to cover all samples in one epoch.\n",
        "    steps_per_epoch = x_train.shape[0] // batch_size\n",
        "    if x_train.shape[0] % batch_size:\n",
        "        steps_per_epoch += 1\n",
        "\n",
        "    # Get number of validation steps.\n",
        "    validation_steps = x_val.shape[0] // batch_size\n",
        "    if x_val.shape[0] % batch_size:\n",
        "        validation_steps += 1\n",
        "\n",
        "    # Train and validate model.\n",
        "    history = model.fit_generator(\n",
        "            generator=training_generator,\n",
        "            steps_per_epoch=steps_per_epoch,\n",
        "            validation_data=validation_generator,\n",
        "            validation_steps=validation_steps,\n",
        "            callbacks=callbacks,\n",
        "            epochs=epochs,\n",
        "            verbose=2)  # Logs once per epoch.\n",
        "\n",
        "    # Print results.\n",
        "    history = history.history\n",
        "    print('Validation accuracy: {acc}, loss: {loss}'.format(\n",
        "            acc=history['val_acc'][-1], loss=history['val_loss'][-1]))\n",
        "\n",
        "    # Save model.\n",
        "    model.save('model.h5')\n",
        "    return history['val_acc'][-1], history['val_loss'][-1],tokenizer,max_length"
      ]
    },
    {
      "cell_type": "code",
      "execution_count": null,
      "metadata": {
        "id": "CAH9mdPaTPPc",
        "pycharm": {
          "name": "#%%\n"
        }
      },
      "outputs": [],
      "source": [
        "data=((X_train, np.array(y_train)),(X_val, np.array(y_val)))"
      ]
    },
    {
      "cell_type": "code",
      "execution_count": null,
      "metadata": {
        "colab": {
          "base_uri": "https://localhost:8080/",
          "height": 1000
        },
        "id": "7ALJ07Fy0RuT",
        "outputId": "a70b67fe-fe4b-47e1-9267-ed0792fb8b51",
        "pycharm": {
          "name": "#%%\n"
        }
      },
      "outputs": [
        {
          "name": "stdout",
          "output_type": "stream",
          "text": [
            "WARNING:tensorflow:From /usr/local/lib/python3.6/dist-packages/tensorflow_core/python/keras/initializers.py:119: calling RandomUniform.__init__ (from tensorflow.python.ops.init_ops) with dtype is deprecated and will be removed in a future version.\n",
            "Instructions for updating:\n",
            "Call initializer instance with the dtype argument instead of passing it to the constructor\n",
            "WARNING:tensorflow:From /usr/local/lib/python3.6/dist-packages/tensorflow_core/python/ops/resource_variable_ops.py:1630: calling BaseResourceVariable.__init__ (from tensorflow.python.ops.resource_variable_ops) with constraint is deprecated and will be removed in a future version.\n",
            "Instructions for updating:\n",
            "If using Keras pass *_constraint arguments to layers.\n",
            "WARNING:tensorflow:From /usr/local/lib/python3.6/dist-packages/tensorflow_core/python/ops/nn_impl.py:183: where (from tensorflow.python.ops.array_ops) is deprecated and will be removed in a future version.\n",
            "Instructions for updating:\n",
            "Use tf.where in 2.0, which has the same broadcast rule as np.where\n",
            "Epoch 1/70\n",
            "Epoch 1/70\n",
            "10/10 - 1s - loss: 0.6948 - acc: 0.4853 - val_loss: 0.6901 - val_acc: 0.5112\n",
            "Epoch 2/70\n",
            "Epoch 1/70\n",
            "10/10 - 0s - loss: 0.6864 - acc: 0.6670 - val_loss: 0.6846 - val_acc: 0.7257\n",
            "Epoch 3/70\n",
            "Epoch 1/70\n",
            "10/10 - 0s - loss: 0.6783 - acc: 0.7793 - val_loss: 0.6762 - val_acc: 0.7734\n",
            "Epoch 4/70\n",
            "Epoch 1/70\n",
            "10/10 - 0s - loss: 0.6647 - acc: 0.8409 - val_loss: 0.6624 - val_acc: 0.8043\n",
            "Epoch 5/70\n",
            "Epoch 1/70\n",
            "10/10 - 0s - loss: 0.6438 - acc: 0.8740 - val_loss: 0.6420 - val_acc: 0.8212\n",
            "Epoch 6/70\n",
            "Epoch 1/70\n",
            "10/10 - 0s - loss: 0.6133 - acc: 0.8878 - val_loss: 0.6142 - val_acc: 0.8315\n",
            "Epoch 7/70\n",
            "Epoch 1/70\n",
            "10/10 - 0s - loss: 0.5735 - acc: 0.8925 - val_loss: 0.5788 - val_acc: 0.8371\n",
            "Epoch 8/70\n",
            "Epoch 1/70\n",
            "10/10 - 0s - loss: 0.5246 - acc: 0.9010 - val_loss: 0.5374 - val_acc: 0.8464\n",
            "Epoch 9/70\n",
            "Epoch 1/70\n",
            "10/10 - 0s - loss: 0.4710 - acc: 0.9079 - val_loss: 0.4935 - val_acc: 0.8446\n",
            "Epoch 10/70\n",
            "Epoch 1/70\n",
            "10/10 - 0s - loss: 0.4158 - acc: 0.9138 - val_loss: 0.4506 - val_acc: 0.8521\n",
            "Epoch 11/70\n",
            "Epoch 1/70\n",
            "10/10 - 0s - loss: 0.3622 - acc: 0.9244 - val_loss: 0.4109 - val_acc: 0.8549\n",
            "Epoch 12/70\n",
            "Epoch 1/70\n",
            "10/10 - 0s - loss: 0.3121 - acc: 0.9339 - val_loss: 0.3758 - val_acc: 0.8614\n",
            "Epoch 13/70\n",
            "Epoch 1/70\n",
            "10/10 - 0s - loss: 0.2674 - acc: 0.9418 - val_loss: 0.3468 - val_acc: 0.8708\n",
            "Epoch 14/70\n",
            "Epoch 1/70\n",
            "10/10 - 0s - loss: 0.2286 - acc: 0.9497 - val_loss: 0.3239 - val_acc: 0.8736\n",
            "Epoch 15/70\n",
            "Epoch 1/70\n",
            "10/10 - 0s - loss: 0.1959 - acc: 0.9563 - val_loss: 0.3067 - val_acc: 0.8708\n",
            "Epoch 16/70\n",
            "Epoch 1/70\n",
            "10/10 - 0s - loss: 0.1678 - acc: 0.9633 - val_loss: 0.2951 - val_acc: 0.8699\n",
            "Epoch 17/70\n",
            "Epoch 1/70\n",
            "10/10 - 0s - loss: 0.1448 - acc: 0.9696 - val_loss: 0.2874 - val_acc: 0.8699\n",
            "Epoch 18/70\n",
            "Epoch 1/70\n",
            "10/10 - 0s - loss: 0.1258 - acc: 0.9728 - val_loss: 0.2823 - val_acc: 0.8680\n",
            "Epoch 19/70\n",
            "Epoch 1/70\n",
            "10/10 - 0s - loss: 0.1113 - acc: 0.9762 - val_loss: 0.2790 - val_acc: 0.8661\n",
            "Epoch 20/70\n",
            "Epoch 1/70\n",
            "10/10 - 0s - loss: 0.0981 - acc: 0.9802 - val_loss: 0.2776 - val_acc: 0.8680\n",
            "Epoch 21/70\n",
            "Epoch 1/70\n",
            "10/10 - 0s - loss: 0.0870 - acc: 0.9836 - val_loss: 0.2772 - val_acc: 0.8670\n",
            "Epoch 22/70\n",
            "Epoch 1/70\n",
            "10/10 - 0s - loss: 0.0772 - acc: 0.9844 - val_loss: 0.2774 - val_acc: 0.8689\n",
            "Epoch 23/70\n",
            "Epoch 1/70\n",
            "10/10 - 0s - loss: 0.0696 - acc: 0.9870 - val_loss: 0.2774 - val_acc: 0.8680\n",
            "Validation accuracy: 0.867977499961853, loss: 0.27738057076931\n"
          ]
        }
      ],
      "source": [
        "val_acc,val_loss,tokenizer,max_length=batch_train_sequence_model(data)"
      ]
    },
    {
      "cell_type": "markdown",
      "metadata": {
        "id": "mDi4K5b8ZEwr",
        "pycharm": {
          "name": "#%% md\n"
        }
      },
      "source": [
        "## Testing\n",
        "converting test data into sequence vector"
      ]
    },
    {
      "cell_type": "code",
      "execution_count": null,
      "metadata": {
        "colab": {
          "base_uri": "https://localhost:8080/",
          "height": 119
        },
        "id": "ZvQr1wAPlNMg",
        "outputId": "91f05cb7-1b21-4e26-cb4c-ea45c443b9c5",
        "pycharm": {
          "name": "#%%\n"
        }
      },
      "outputs": [
        {
          "data": {
            "text/plain": [
              "3620                الله الله توظيف التخصص شعريا شعور رائع\n",
              "7464                      محتاجة تفكير إيجابي و تشجيع كتير\n",
              "10457    ذكرت ارقام الوظائف المباشرة وغير المباشرة في م...\n",
              "6653     سعوديات نطلب اسقاط الولايه ٥ نوفمبر ٢٠١٨م من ا...\n",
              "1165     برت من الجيد و للاسف اني شاهدته قدام عيوني ينج...\n",
              "Name: tweets, dtype: object"
            ]
          },
          "execution_count": 55,
          "metadata": {
            "tags": []
          },
          "output_type": "execute_result"
        }
      ],
      "source": [
        "X_test.head()"
      ]
    },
    {
      "cell_type": "code",
      "execution_count": null,
      "metadata": {
        "id": "WCTRt7Wd0Q0K",
        "pycharm": {
          "name": "#%%\n"
        }
      },
      "outputs": [],
      "source": [
        "x_test = tokenizer.texts_to_sequences(X_test)\n",
        "x_test = sequence.pad_sequences(x_test, maxlen=max_length)\n",
        "num_features = min(len(tokenizer.word_index) + 1, TOP_K)"
      ]
    },
    {
      "cell_type": "markdown",
      "metadata": {
        "id": "Z8IBUASUmTtE",
        "pycharm": {
          "name": "#%% md\n"
        }
      },
      "source": [
        "Convert X_test in baches"
      ]
    },
    {
      "cell_type": "code",
      "execution_count": null,
      "metadata": {
        "id": "4VugTSIGdKdy",
        "pycharm": {
          "name": "#%%\n"
        }
      },
      "outputs": [],
      "source": [
        "testing_generator = _data_generator( x_test, y_test,num_features,1000)\n",
        "steps_per_epoch = x_test.shape[0] // 1000\n",
        "if x_test.shape[0] % 1000:\n",
        "  steps_per_epoch += 1"
      ]
    },
    {
      "cell_type": "markdown",
      "metadata": {
        "id": "lvI4nsDumbMf",
        "pycharm": {
          "name": "#%% md\n"
        }
      },
      "source": [
        "Load Model"
      ]
    },
    {
      "cell_type": "code",
      "execution_count": null,
      "metadata": {
        "colab": {
          "base_uri": "https://localhost:8080/",
          "height": 445
        },
        "id": "2fTn48Ppb4Wm",
        "outputId": "ed534c91-5dc9-4c76-af3d-94ec52bf6c42",
        "pycharm": {
          "name": "#%%\n"
        }
      },
      "outputs": [
        {
          "name": "stdout",
          "output_type": "stream",
          "text": [
            "WARNING:tensorflow:From /usr/local/lib/python3.6/dist-packages/tensorflow_core/python/ops/init_ops.py:97: calling GlorotUniform.__init__ (from tensorflow.python.ops.init_ops) with dtype is deprecated and will be removed in a future version.\n",
            "Instructions for updating:\n",
            "Call initializer instance with the dtype argument instead of passing it to the constructor\n",
            "WARNING:tensorflow:From /usr/local/lib/python3.6/dist-packages/tensorflow_core/python/ops/init_ops.py:97: calling Zeros.__init__ (from tensorflow.python.ops.init_ops) with dtype is deprecated and will be removed in a future version.\n",
            "Instructions for updating:\n",
            "Call initializer instance with the dtype argument instead of passing it to the constructor\n",
            "Model: \"sequential\"\n",
            "_________________________________________________________________\n",
            "Layer (type)                 Output Shape              Param #   \n",
            "=================================================================\n",
            "embedding (Embedding)        (None, 58, 32)            640000    \n",
            "_________________________________________________________________\n",
            "global_max_pooling1d (Global (None, 32)                0         \n",
            "_________________________________________________________________\n",
            "dense (Dense)                (None, 32)                1056      \n",
            "_________________________________________________________________\n",
            "dropout (Dropout)            (None, 32)                0         \n",
            "_________________________________________________________________\n",
            "dense_1 (Dense)              (None, 1)                 33        \n",
            "=================================================================\n",
            "Total params: 641,089\n",
            "Trainable params: 641,089\n",
            "Non-trainable params: 0\n",
            "_________________________________________________________________\n"
          ]
        }
      ],
      "source": [
        "# load model\n",
        "model = tf.keras.models.load_model('/content/model.h5')\n",
        "# summarize model.\n",
        "model.summary()\n",
        "# evaluate the model"
      ]
    },
    {
      "cell_type": "markdown",
      "metadata": {
        "id": "lrQkhTDmmeLE",
        "pycharm": {
          "name": "#%% md\n"
        }
      },
      "source": [
        "Get the Score on Testing"
      ]
    },
    {
      "cell_type": "code",
      "execution_count": null,
      "metadata": {
        "colab": {
          "base_uri": "https://localhost:8080/",
          "height": 51
        },
        "id": "acuIUQSLbnmi",
        "outputId": "b3d02108-a834-4bc6-df1e-bad56b258df3",
        "pycharm": {
          "name": "#%%\n"
        }
      },
      "outputs": [
        {
          "name": "stdout",
          "output_type": "stream",
          "text": [
            "5/5 - 0s - loss: 0.2705 - acc: 0.8776\n",
            "acc: 87.76%\n"
          ]
        }
      ],
      "source": [
        "score = model.evaluate_generator(generator=testing_generator, steps=steps_per_epoch,verbose=2)\n",
        "print(\"%s: %.2f%%\" % (model.metrics_names[1], score[1]*100))"
      ]
    },
    {
      "cell_type": "markdown",
      "metadata": {
        "id": "ZkeVUm5GmmfW",
        "pycharm": {
          "name": "#%% md\n"
        }
      },
      "source": [
        "Now check Our model on السعودية examples.\n",
        "\n",
        "First collect examples of السعودية"
      ]
    },
    {
      "cell_type": "code",
      "execution_count": null,
      "metadata": {
        "id": "4IikvbMK8by3",
        "pycharm": {
          "name": "#%%\n"
        }
      },
      "outputs": [],
      "source": [
        "Saudi_Arabia_index = X_test.str.contains('السعودية')\n",
        "Saudi_Arabia=X_test[Saudi_Arabia_index]\n",
        "labels_Saudia=y_test[Saudi_Arabia_index]\n",
        "Saudia=pd.concat([Saudi_Arabia,labels_Saudia],axis=1, ignore_index=True,sort=False )"
      ]
    },
    {
      "cell_type": "code",
      "execution_count": null,
      "metadata": {
        "id": "DETBH6yMM2ZQ",
        "pycharm": {
          "name": "#%%\n"
        }
      },
      "outputs": [],
      "source": [
        "Saudia.index=np.arange(0, len(Saudia))\n",
        "Saudia.columns=['tweets','labels']"
      ]
    },
    {
      "cell_type": "code",
      "execution_count": null,
      "metadata": {
        "colab": {
          "base_uri": "https://localhost:8080/",
          "height": 204
        },
        "id": "PoWsngE9JmH3",
        "outputId": "c5774ff4-6df9-4140-b826-414be3cd27ab",
        "pycharm": {
          "name": "#%%\n"
        }
      },
      "outputs": [
        {
          "data": {
            "text/html": [
              "<div>\n",
              "<style scoped>\n",
              "    .dataframe tbody tr th:only-of-type {\n",
              "        vertical-align: middle;\n",
              "    }\n",
              "\n",
              "    .dataframe tbody tr th {\n",
              "        vertical-align: top;\n",
              "    }\n",
              "\n",
              "    .dataframe thead th {\n",
              "        text-align: right;\n",
              "    }\n",
              "</style>\n",
              "<table border=\"1\" class=\"dataframe\">\n",
              "  <thead>\n",
              "    <tr style=\"text-align: right;\">\n",
              "      <th></th>\n",
              "      <th>tweets</th>\n",
              "      <th>labels</th>\n",
              "    </tr>\n",
              "  </thead>\n",
              "  <tbody>\n",
              "    <tr>\n",
              "      <th>0</th>\n",
              "      <td>السعودية الجديدة وضعت لها خطط لتحقيق أهداف محد...</td>\n",
              "      <td>1</td>\n",
              "    </tr>\n",
              "    <tr>\n",
              "      <th>1</th>\n",
              "      <td>سعوديات نطلب اسقاط الولايه الولاية على النساء ...</td>\n",
              "      <td>1</td>\n",
              "    </tr>\n",
              "    <tr>\n",
              "      <th>2</th>\n",
              "      <td>معليك منها ياحامد في بعض العينات في السعودية ي...</td>\n",
              "      <td>1</td>\n",
              "    </tr>\n",
              "    <tr>\n",
              "      <th>3</th>\n",
              "      <td>كل الشكر للأنظمة الجديدة و القوانين الصارمة لأ...</td>\n",
              "      <td>1</td>\n",
              "    </tr>\n",
              "    <tr>\n",
              "      <th>4</th>\n",
              "      <td>لا يرجد عدل في السعودية ولا توجد شريعة كذلك هذ...</td>\n",
              "      <td>0</td>\n",
              "    </tr>\n",
              "  </tbody>\n",
              "</table>\n",
              "</div>"
            ],
            "text/plain": [
              "                                              tweets  labels\n",
              "0  السعودية الجديدة وضعت لها خطط لتحقيق أهداف محد...       1\n",
              "1  سعوديات نطلب اسقاط الولايه الولاية على النساء ...       1\n",
              "2  معليك منها ياحامد في بعض العينات في السعودية ي...       1\n",
              "3  كل الشكر للأنظمة الجديدة و القوانين الصارمة لأ...       1\n",
              "4  لا يرجد عدل في السعودية ولا توجد شريعة كذلك هذ...       0"
            ]
          },
          "execution_count": 62,
          "metadata": {
            "tags": []
          },
          "output_type": "execute_result"
        }
      ],
      "source": [
        "Saudia.head()"
      ]
    },
    {
      "cell_type": "code",
      "execution_count": null,
      "metadata": {
        "colab": {
          "base_uri": "https://localhost:8080/",
          "height": 68
        },
        "id": "h5k3exd1QxXz",
        "outputId": "a448aca8-b048-4749-d4ce-04a7bf38f004",
        "pycharm": {
          "name": "#%%\n"
        }
      },
      "outputs": [
        {
          "data": {
            "text/plain": [
              "tweets    object\n",
              "labels     int64\n",
              "dtype: object"
            ]
          },
          "execution_count": 63,
          "metadata": {
            "tags": []
          },
          "output_type": "execute_result"
        }
      ],
      "source": [
        "Saudia.dtypes"
      ]
    },
    {
      "cell_type": "markdown",
      "metadata": {
        "id": "pMfAVsF1nEFU",
        "pycharm": {
          "name": "#%% md\n"
        }
      },
      "source": [
        "Count Number of Exaples"
      ]
    },
    {
      "cell_type": "code",
      "execution_count": null,
      "metadata": {
        "colab": {
          "base_uri": "https://localhost:8080/",
          "height": 68
        },
        "id": "h0FwX4RcNJIO",
        "outputId": "92a7380b-4e20-4428-c9ed-3ee7ba431e84",
        "pycharm": {
          "name": "#%%\n"
        }
      },
      "outputs": [
        {
          "data": {
            "text/plain": [
              "tweets    108\n",
              "labels    108\n",
              "dtype: int64"
            ]
          },
          "execution_count": 64,
          "metadata": {
            "tags": []
          },
          "output_type": "execute_result"
        }
      ],
      "source": [
        "Saudia.count()"
      ]
    },
    {
      "cell_type": "markdown",
      "metadata": {
        "id": "8QNfu3lvn-VV",
        "pycharm": {
          "name": "#%% md\n"
        }
      },
      "source": [
        "Convert Data into Vectors"
      ]
    },
    {
      "cell_type": "code",
      "execution_count": null,
      "metadata": {
        "id": "r_62to46b1qv",
        "pycharm": {
          "name": "#%%\n"
        }
      },
      "outputs": [],
      "source": [
        "x_test = tokenizer.texts_to_sequences(Saudia.tweets)\n",
        "x_test = sequence.pad_sequences(x_test, maxlen=max_length)"
      ]
    },
    {
      "cell_type": "code",
      "execution_count": null,
      "metadata": {
        "colab": {
          "base_uri": "https://localhost:8080/",
          "height": 34
        },
        "id": "9E9LpRPvNjQB",
        "outputId": "2aa7d3a8-c228-4b1e-825c-61fc49eab964",
        "pycharm": {
          "name": "#%%\n"
        }
      },
      "outputs": [
        {
          "data": {
            "text/plain": [
              "108"
            ]
          },
          "execution_count": 66,
          "metadata": {
            "tags": []
          },
          "output_type": "execute_result"
        }
      ],
      "source": [
        "len(x_test)"
      ]
    },
    {
      "cell_type": "markdown",
      "metadata": {
        "id": "jFJV6MXbolD-",
        "pycharm": {
          "name": "#%% md\n"
        }
      },
      "source": [
        "Lets Check How Many We predict Correct and Wrong with Confusion Matrix"
      ]
    },
    {
      "cell_type": "code",
      "execution_count": null,
      "metadata": {
        "id": "o-erHs6hZYFy",
        "pycharm": {
          "name": "#%%\n"
        }
      },
      "outputs": [],
      "source": [
        "def getConfusionMatrix(y_hat,y_test):\n",
        "    TN = len([1 for ind in range(len(y_test)) if y_test.iloc[ind]==0 and y_hat.iloc[ind]==0])\n",
        "    FP = len([1 for ind in range(len(y_test)) if y_test.iloc[ind]==0 and y_hat.iloc[ind]==1])\n",
        "    FN = len([1 for ind in range(len(y_test)) if y_test.iloc[ind]==1 and y_hat.iloc[ind]==0])\n",
        "    TP = len([1 for ind in range(len(y_test)) if y_test.iloc[ind]==1 and y_hat.iloc[ind]==1])\n",
        "    return TN,FP,FN,TP"
      ]
    },
    {
      "cell_type": "code",
      "execution_count": null,
      "metadata": {
        "id": "sm9i-LujoyvZ",
        "pycharm": {
          "name": "#%%\n"
        }
      },
      "outputs": [],
      "source": [
        "y_hat = model.predict_classes(x_test)"
      ]
    },
    {
      "cell_type": "code",
      "execution_count": null,
      "metadata": {
        "colab": {
          "base_uri": "https://localhost:8080/",
          "height": 85
        },
        "id": "mzjnLtzdo6dM",
        "outputId": "0de9c2f7-7a5e-45c0-986f-411aaa103cf6",
        "pycharm": {
          "name": "#%%\n"
        }
      },
      "outputs": [
        {
          "name": "stdout",
          "output_type": "stream",
          "text": [
            "confusion matrix:\n",
            "\tpred-0\tpred-1\n",
            "is-0\tTN=34\tFP=11\n",
            "is-1\tFN=5\tTP=58\n"
          ]
        }
      ],
      "source": [
        "numTN,numFP,numFN,numTP = getConfusionMatrix(pd.Series(y_hat.reshape(-1)),Saudia.labels)\n",
        "print ('confusion matrix:')\n",
        "print ('\\tpred-0\\tpred-1')\n",
        "print ('is-0\\tTN=%d\\tFP=%d' %(numTN,numFP))\n",
        "print ('is-1\\tFN=%d\\tTP=%d' %(numFN,numTP))"
      ]
    },
    {
      "cell_type": "markdown",
      "metadata": {
        "id": "at2aLeC5svgT",
        "pycharm": {
          "name": "#%% md\n"
        }
      },
      "source": [
        "It means we predict All negative tweets correctly and 2 positive tweets as negative . Our concentration was only Negative which We dont want to predict Wrong. It means We get best Model."
      ]
    },
    {
      "cell_type": "markdown",
      "metadata": {
        "id": "XFp77X6F-_Qw",
        "pycharm": {
          "name": "#%% md\n"
        }
      },
      "source": [
        "## ROC Curve"
      ]
    },
    {
      "cell_type": "code",
      "execution_count": null,
      "metadata": {
        "id": "MQc2tpGr-_Qx",
        "pycharm": {
          "name": "#%%\n"
        }
      },
      "outputs": [],
      "source": [
        "from sklearn.metrics import roc_curve\n",
        "fpr_keras, tpr_keras, thresholds_keras = roc_curve(Saudia.labels, y_hat.ravel())"
      ]
    },
    {
      "cell_type": "code",
      "execution_count": null,
      "metadata": {
        "id": "x38T876H-_Qy",
        "pycharm": {
          "name": "#%%\n"
        }
      },
      "outputs": [],
      "source": [
        "from sklearn.metrics import auc\n",
        "auc_keras = auc(fpr_keras, tpr_keras)"
      ]
    },
    {
      "cell_type": "code",
      "execution_count": null,
      "metadata": {
        "colab": {
          "base_uri": "https://localhost:8080/",
          "height": 295
        },
        "id": "OnjfVGut-_Q0",
        "outputId": "c0588c02-f9f4-463e-ada2-31da7666a1fa",
        "pycharm": {
          "name": "#%%\n"
        }
      },
      "outputs": [
        {
          "data": {
            "image/png": "[encoded data removed]",
            "text/plain": [
              "<Figure size 432x288 with 1 Axes>"
            ]
          },
          "metadata": {
            "tags": []
          },
          "output_type": "display_data"
        }
      ],
      "source": [
        "plt.figure(1)\n",
        "plt.plot([0, 1], [0, 1], 'k--')\n",
        "plt.plot(fpr_keras, tpr_keras, label='Keras (area = {:.3f})'.format(auc_keras))\n",
        "plt.xlabel('False positive rate')\n",
        "plt.ylabel('True positive rate')\n",
        "plt.title('ROC curve')\n",
        "plt.legend(loc='best')\n",
        "plt.show()"
      ]
    },
    {
      "cell_type": "markdown",
      "metadata": {
        "id": "Fw7qvQsttf4e",
        "pycharm": {
          "name": "#%% md\n"
        }
      },
      "source": [
        "# Evaluate precision"
      ]
    },
    {
      "cell_type": "code",
      "execution_count": null,
      "metadata": {
        "id": "LAW2O9DxpbJQ",
        "pycharm": {
          "name": "#%%\n"
        }
      },
      "outputs": [],
      "source": [
        "def getPrecision(y_hat,y_test):\n",
        "    TN,FP,FN,TP=getConfusionMatrix(y_hat,y_test)\n",
        "    return TP/(TP+FP)"
      ]
    },
    {
      "cell_type": "code",
      "execution_count": null,
      "metadata": {
        "colab": {
          "base_uri": "https://localhost:8080/",
          "height": 34
        },
        "id": "_B28FnYJt264",
        "outputId": "7957816c-11e2-47a5-ce3e-9707bcc98091",
        "pycharm": {
          "name": "#%%\n"
        }
      },
      "outputs": [
        {
          "data": {
            "text/plain": [
              "0.8405797101449275"
            ]
          },
          "execution_count": 74,
          "metadata": {
            "tags": []
          },
          "output_type": "execute_result"
        }
      ],
      "source": [
        "getPrecision(pd.Series(y_hat.reshape(-1)),Saudia.labels)"
      ]
    },
    {
      "cell_type": "markdown",
      "metadata": {
        "id": "W1elZ4RwtuTt",
        "pycharm": {
          "name": "#%% md\n"
        }
      },
      "source": [
        "Evaluate Recall"
      ]
    },
    {
      "cell_type": "code",
      "execution_count": null,
      "metadata": {
        "id": "xEyKzOtWti3n",
        "pycharm": {
          "name": "#%%\n"
        }
      },
      "outputs": [],
      "source": [
        "def getRecall(y_hat,y_test):\n",
        "    TN,FP,FN,TP=getConfusionMatrix(y_hat,y_test)\n",
        "    return TP/(TP+FN)"
      ]
    },
    {
      "cell_type": "code",
      "execution_count": null,
      "metadata": {
        "colab": {
          "base_uri": "https://localhost:8080/",
          "height": 34
        },
        "id": "XIDarU9uuYwk",
        "outputId": "acc07972-31e6-4da2-bc28-50c4b9a8bc24",
        "pycharm": {
          "name": "#%%\n"
        }
      },
      "outputs": [
        {
          "data": {
            "text/plain": [
              "0.9206349206349206"
            ]
          },
          "execution_count": 76,
          "metadata": {
            "tags": []
          },
          "output_type": "execute_result"
        }
      ],
      "source": [
        "getRecall(pd.Series(y_hat.reshape(-1)),Saudia.labels)"
      ]
    },
    {
      "cell_type": "markdown",
      "metadata": {
        "id": "uKf3gSUKwV8c",
        "pycharm": {
          "name": "#%% md\n"
        }
      },
      "source": []
    },
    {
      "cell_type": "code",
      "execution_count": null,
      "metadata": {
        "colab": {
          "base_uri": "https://localhost:8080/",
          "height": 122
        },
        "id": "wmz49MISwO52",
        "outputId": "4ba80511-318e-47a2-b41a-63474c701e62",
        "pycharm": {
          "name": "#%%\n"
        }
      },
      "outputs": [
        {
          "name": "stdout",
          "output_type": "stream",
          "text": [
            "سعوديات نطلب اسقاط الولايه الولاية على النساء وسلب ارادتهن استعباد للبشر بصك شرعي للولي يتصرف فيها كيف يشاء وين المنطق من الولاية الصهيونية اللي فرضت على المرأة السعودية  Predict: 1\n",
            "معليك منها ياحامد في بعض العينات في السعودية يعتبرون ان المرأة مالها حقوق وإن دافعت عن حقها او طالبت به فهي غير شريفة والمشكلة انهم مايتقبلوا اي سبب منطقي او عقلاني هم كذا نفس قوم قريش زمان يتبعون شي و  Predict: 0\n",
            "كل الشكر للأنظمة الجديدة و القوانين الصارمة لأمن الطرق و السلامة أخوي صار يربط حزام الأمان من تلقاء نفسه و الوالدة كذلك كلنا مع السعودية ايد واحدة  Predict: 1\n",
            "لا يرجد عدل في السعودية ولا توجد شريعة كذلك هذه الكذبة لم يعد يصدقها الا جاهل مئات المعتقلين بلا تهم او محاكمات حفلات ومجون هيئة الترفيه وانفتاح غير مبرر بنوك ربوية وغيره وغيره  Predict: 0\n",
            "عالميا يساوي الاستغلال الجنسي مليار دولار سنويا اليوم العالمي للمرأة السعودية مصر الامارات  Predict: 0\n"
          ]
        }
      ],
      "source": [
        "yhat=pd.Series(y_hat.reshape(-1))\n",
        "#checking first five\n",
        "for i in range(1,6): \n",
        "  print(Saudia.tweets[i],\" Predict:\",yhat[i])\n",
        "  "
      ]
    },
    {
      "cell_type": "code",
      "execution_count": null,
      "metadata": {
        "id": "0wcyAc7FzDx-",
        "pycharm": {
          "name": "#%%\n"
        }
      },
      "outputs": [],
      "source": []
    }
  ],
  "metadata": {
    "colab": {
      "provenance": []
    },
    "kernelspec": {
      "display_name": "Python 3",
      "language": "python",
      "name": "python3"
    },
    "language_info": {
      "codemirror_mode": {
        "name": "ipython",
        "version": 3
      },
      "file_extension": ".py",
      "mimetype": "text/x-python",
      "name": "python",
      "nbconvert_exporter": "python",
      "pygments_lexer": "ipython3",
      "version": "3.8.5"
    }
  },
  "nbformat": 4,
  "nbformat_minor": 0
}