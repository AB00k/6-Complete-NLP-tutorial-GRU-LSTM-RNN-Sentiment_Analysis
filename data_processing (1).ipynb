{
  "cells": [
    {
      "cell_type": "markdown",
      "metadata": {
        "pycharm": {
          "name": "#%% md\n"
        },
        "id": "pwBr7J2P5paH"
      },
      "source": [
        "## Import Libraries"
      ]
    },
    {
      "cell_type": "code",
      "source": [
        "from google.colab import drive\n",
        "drive.mount('/content/drive')"
      ],
      "metadata": {
        "colab": {
          "base_uri": "https://localhost:8080/"
        },
        "id": "6rQKstQ7QRar",
        "outputId": "f28360cc-1aae-4065-ba1a-fbb473420f9a"
      },
      "execution_count": null,
      "outputs": [
        {
          "output_type": "stream",
          "name": "stdout",
          "text": [
            "Mounted at /content/drive\n"
          ]
        }
      ]
    },
    {
      "cell_type": "code",
      "source": [
        "!unzip /content/drive/MyDrive/IMBD.zip"
      ],
      "metadata": {
        "colab": {
          "base_uri": "https://localhost:8080/"
        },
        "id": "TqJ_7tc3QiiY",
        "outputId": "b334b307-9aa4-44f2-84aa-8e0ab7fe1c74"
      },
      "execution_count": null,
      "outputs": [
        {
          "output_type": "stream",
          "name": "stdout",
          "text": [
            "Archive:  /content/drive/MyDrive/IMBD.zip\n",
            "   creating: IMBD/\n",
            "  inflating: IMBD/imdb_dataset.csv   \n",
            "  inflating: IMBD/unlabeled.csv      \n"
          ]
        }
      ]
    },
    {
      "cell_type": "markdown",
      "metadata": {
        "id": "GI0iOY8zvZzL",
        "pycharm": {
          "name": "#%% md\n"
        }
      },
      "source": [
        "\n",
        "We will import Relevant libraries which will be use for our porject."
      ]
    },
    {
      "cell_type": "code",
      "execution_count": null,
      "metadata": {
        "id": "nR4ebtbJf-1P",
        "pycharm": {
          "name": "#%%\n"
        },
        "colab": {
          "base_uri": "https://localhost:8080/",
          "height": 373
        },
        "outputId": "dd5f32a2-48da-419e-c192-7cc169b02d36"
      },
      "outputs": [
        {
          "output_type": "error",
          "ename": "ModuleNotFoundError",
          "evalue": "ignored",
          "traceback": [
            "\u001b[0;31m---------------------------------------------------------------------------\u001b[0m",
            "\u001b[0;31mModuleNotFoundError\u001b[0m                       Traceback (most recent call last)",
            "\u001b[0;32m<ipython-input-3-fb48a56bf1f2>\u001b[0m in \u001b[0;36m<cell line: 19>\u001b[0;34m()\u001b[0m\n\u001b[1;32m     17\u001b[0m \u001b[0;32mfrom\u001b[0m \u001b[0mtorch\u001b[0m \u001b[0;32mimport\u001b[0m \u001b[0mnn\u001b[0m\u001b[0;34m\u001b[0m\u001b[0;34m\u001b[0m\u001b[0m\n\u001b[1;32m     18\u001b[0m \u001b[0;32mfrom\u001b[0m \u001b[0mtorch\u001b[0m \u001b[0;32mimport\u001b[0m \u001b[0moptim\u001b[0m\u001b[0;34m\u001b[0m\u001b[0;34m\u001b[0m\u001b[0m\n\u001b[0;32m---> 19\u001b[0;31m \u001b[0;32mfrom\u001b[0m \u001b[0mtorchtext\u001b[0m\u001b[0;34m.\u001b[0m\u001b[0mlegacy\u001b[0m \u001b[0;32mimport\u001b[0m \u001b[0mdata\u001b[0m\u001b[0;34m\u001b[0m\u001b[0;34m\u001b[0m\u001b[0m\n\u001b[0m\u001b[1;32m     20\u001b[0m \u001b[0;32mfrom\u001b[0m \u001b[0mtorch\u001b[0m\u001b[0;34m.\u001b[0m\u001b[0mutils\u001b[0m\u001b[0;34m.\u001b[0m\u001b[0mdata\u001b[0m \u001b[0;32mimport\u001b[0m \u001b[0mDataLoader\u001b[0m\u001b[0;34m\u001b[0m\u001b[0;34m\u001b[0m\u001b[0m\n\u001b[1;32m     21\u001b[0m \u001b[0;32mfrom\u001b[0m \u001b[0mwordcloud\u001b[0m \u001b[0;32mimport\u001b[0m \u001b[0mWordCloud\u001b[0m\u001b[0;34m\u001b[0m\u001b[0;34m\u001b[0m\u001b[0m\n",
            "\u001b[0;31mModuleNotFoundError\u001b[0m: No module named 'torchtext.legacy'",
            "",
            "\u001b[0;31m---------------------------------------------------------------------------\u001b[0;32m\nNOTE: If your import is failing due to a missing package, you can\nmanually install dependencies using either !pip or !apt.\n\nTo view examples of installing some common dependencies, click the\n\"Open Examples\" button below.\n\u001b[0;31m---------------------------------------------------------------------------\u001b[0m\n"
          ],
          "errorDetails": {
            "actions": [
              {
                "action": "open_url",
                "actionText": "Open Examples",
                "url": "/notebooks/snippets/importing_libraries.ipynb"
              }
            ]
          }
        }
      ],
      "source": [
        "import torch\n",
        "import matplotlib.pyplot as plt\n",
        "import seaborn as sns\n",
        "import pandas as pd\n",
        "import copy\n",
        "import math\n",
        "import os\n",
        "import numpy as np\n",
        "from tqdm import tqdm\n",
        "import torch.nn as nn\n",
        "from pathlib import Path\n",
        "from PIL import Image\n",
        "from mlxtend.plotting import plot_confusion_matrix\n",
        "from sklearn.metrics import confusion_matrix \n",
        "from sklearn.metrics import classification_report\n",
        "from sklearn import model_selection\n",
        "from torch import nn\n",
        "from torch import optim\n",
        "from torchtext.legacy import data\n",
        "from torch.utils.data import DataLoader\n",
        "from wordcloud import WordCloud\n",
        "import nltk\n",
        "import re\n",
        "\n",
        "%matplotlib inline\n",
        "sns.set_style('whitegrid')"
      ]
    },
    {
      "cell_type": "code",
      "execution_count": null,
      "metadata": {
        "pycharm": {
          "name": "#%%\n"
        },
        "id": "Jhpd_c825paK",
        "outputId": "3f9de712-686f-45b4-c8a4-3ae282147ea9"
      },
      "outputs": [
        {
          "data": {
            "text/plain": [
              "<torch._C.Generator at 0x7fcb9c012fd0>"
            ]
          },
          "execution_count": 2,
          "metadata": {},
          "output_type": "execute_result"
        }
      ],
      "source": [
        "# for ignoring warnings\n",
        "import warnings\n",
        "warnings.filterwarnings(\"ignore\")\n",
        "import random\n",
        "SEED = 1962\n",
        "torch.manual_seed(SEED)"
      ]
    },
    {
      "cell_type": "markdown",
      "metadata": {
        "id": "cqG7FzRVFEIv",
        "pycharm": {
          "name": "#%% md\n"
        }
      },
      "source": [
        "## Checking Device\n",
        "Set the Device to GPU or CPU."
      ]
    },
    {
      "cell_type": "code",
      "execution_count": null,
      "metadata": {
        "colab": {
          "base_uri": "https://localhost:8080/"
        },
        "id": "oYsV4H8fCpZ-",
        "outputId": "5e7d9f28-2970-4e7e-ba63-9a1fb3020ece",
        "pycharm": {
          "name": "#%%\n"
        }
      },
      "outputs": [
        {
          "name": "stdout",
          "output_type": "stream",
          "text": [
            "There are 1 GPU(s) available.\n",
            "We will use the GPU: NVIDIA GeForce RTX 2060 with Max-Q Design\n"
          ]
        }
      ],
      "source": [
        "# Check If the a GPU is available\n",
        "if torch.cuda.is_available():    \n",
        "    # Tell PyTorch to use the GPU.    \n",
        "    device = torch.device(\"cuda\")\n",
        "    print('There are %d GPU(s) available.' % torch.cuda.device_count())\n",
        "    print('We will use the GPU:', torch.cuda.get_device_name(0))\n",
        "else:\n",
        "    print('GPU is not available, using the CPU instead.')\n",
        "    device = torch.device(\"cpu\")"
      ]
    },
    {
      "cell_type": "markdown",
      "metadata": {
        "pycharm": {
          "name": "#%% md\n"
        },
        "id": "GrA4H9bY5paN"
      },
      "source": [
        "# Data loading and Pre_Processing"
      ]
    },
    {
      "cell_type": "markdown",
      "metadata": {
        "pycharm": {
          "name": "#%% md\n"
        },
        "id": "gtaYi9TG5paO"
      },
      "source": [
        "##### Read Dataset"
      ]
    },
    {
      "cell_type": "code",
      "execution_count": null,
      "metadata": {
        "pycharm": {
          "name": "#%%\n"
        },
        "id": "o6P1_fm15paO"
      },
      "outputs": [],
      "source": [
        "reviews = pd.read_csv(\"data/imdb_dataset.csv\")"
      ]
    },
    {
      "cell_type": "markdown",
      "metadata": {
        "pycharm": {
          "name": "#%% md\n"
        },
        "id": "fwijBgN-5paP"
      },
      "source": [
        "##### Dimensions of Data"
      ]
    },
    {
      "cell_type": "code",
      "execution_count": null,
      "metadata": {
        "pycharm": {
          "name": "#%%\n"
        },
        "id": "PSgBAIOE5paP",
        "outputId": "c182e26c-7d2d-413b-d308-b919beba5af2"
      },
      "outputs": [
        {
          "data": {
            "text/plain": [
              "(48000, 2)"
            ]
          },
          "execution_count": 5,
          "metadata": {},
          "output_type": "execute_result"
        }
      ],
      "source": [
        "reviews.shape"
      ]
    },
    {
      "cell_type": "markdown",
      "metadata": {
        "pycharm": {
          "name": "#%% md\n"
        },
        "id": "n17edCjy5paQ"
      },
      "source": [
        "##### Peak at the Data"
      ]
    },
    {
      "cell_type": "code",
      "execution_count": null,
      "metadata": {
        "pycharm": {
          "name": "#%%\n"
        },
        "id": "C1NWrMJF5paQ",
        "outputId": "d7bdaacf-9478-4148-a170-17b091646cb1"
      },
      "outputs": [
        {
          "data": {
            "text/html": [
              "<div>\n",
              "<style scoped>\n",
              "    .dataframe tbody tr th:only-of-type {\n",
              "        vertical-align: middle;\n",
              "    }\n",
              "\n",
              "    .dataframe tbody tr th {\n",
              "        vertical-align: top;\n",
              "    }\n",
              "\n",
              "    .dataframe thead th {\n",
              "        text-align: right;\n",
              "    }\n",
              "</style>\n",
              "<table border=\"1\" class=\"dataframe\">\n",
              "  <thead>\n",
              "    <tr style=\"text-align: right;\">\n",
              "      <th></th>\n",
              "      <th>review</th>\n",
              "      <th>sentiment</th>\n",
              "    </tr>\n",
              "  </thead>\n",
              "  <tbody>\n",
              "    <tr>\n",
              "      <th>0</th>\n",
              "      <td>One of the other reviewers has mentioned that ...</td>\n",
              "      <td>positive</td>\n",
              "    </tr>\n",
              "    <tr>\n",
              "      <th>1</th>\n",
              "      <td>A wonderful little production. &lt;br /&gt;&lt;br /&gt;The...</td>\n",
              "      <td>positive</td>\n",
              "    </tr>\n",
              "    <tr>\n",
              "      <th>2</th>\n",
              "      <td>I thought this was a wonderful way to spend ti...</td>\n",
              "      <td>positive</td>\n",
              "    </tr>\n",
              "    <tr>\n",
              "      <th>3</th>\n",
              "      <td>Basically there's a family where a little boy ...</td>\n",
              "      <td>negative</td>\n",
              "    </tr>\n",
              "    <tr>\n",
              "      <th>4</th>\n",
              "      <td>Petter Mattei's \"Love in the Time of Money\" is...</td>\n",
              "      <td>positive</td>\n",
              "    </tr>\n",
              "  </tbody>\n",
              "</table>\n",
              "</div>"
            ],
            "text/plain": [
              "                                              review sentiment\n",
              "0  One of the other reviewers has mentioned that ...  positive\n",
              "1  A wonderful little production. <br /><br />The...  positive\n",
              "2  I thought this was a wonderful way to spend ti...  positive\n",
              "3  Basically there's a family where a little boy ...  negative\n",
              "4  Petter Mattei's \"Love in the Time of Money\" is...  positive"
            ]
          },
          "execution_count": 6,
          "metadata": {},
          "output_type": "execute_result"
        }
      ],
      "source": [
        "reviews.head()"
      ]
    },
    {
      "cell_type": "code",
      "execution_count": null,
      "metadata": {
        "pycharm": {
          "name": "#%%\n"
        },
        "id": "GYwC2Whq5paR",
        "outputId": "1d0a8d94-1afa-471e-ae19-a1dccd30e3d0"
      },
      "outputs": [
        {
          "data": {
            "text/html": [
              "<div>\n",
              "<style scoped>\n",
              "    .dataframe tbody tr th:only-of-type {\n",
              "        vertical-align: middle;\n",
              "    }\n",
              "\n",
              "    .dataframe tbody tr th {\n",
              "        vertical-align: top;\n",
              "    }\n",
              "\n",
              "    .dataframe thead th {\n",
              "        text-align: right;\n",
              "    }\n",
              "</style>\n",
              "<table border=\"1\" class=\"dataframe\">\n",
              "  <thead>\n",
              "    <tr style=\"text-align: right;\">\n",
              "      <th></th>\n",
              "      <th>review</th>\n",
              "      <th>sentiment</th>\n",
              "    </tr>\n",
              "  </thead>\n",
              "  <tbody>\n",
              "    <tr>\n",
              "      <th>47995</th>\n",
              "      <td>First of all, Blythe Danner doesn't look anywh...</td>\n",
              "      <td>negative</td>\n",
              "    </tr>\n",
              "    <tr>\n",
              "      <th>47996</th>\n",
              "      <td>I wouldn't be so quick to look at all the good...</td>\n",
              "      <td>negative</td>\n",
              "    </tr>\n",
              "    <tr>\n",
              "      <th>47997</th>\n",
              "      <td>Everything about this show is terrible. Its pr...</td>\n",
              "      <td>negative</td>\n",
              "    </tr>\n",
              "    <tr>\n",
              "      <th>47998</th>\n",
              "      <td>This movie just was not very funny. There's no...</td>\n",
              "      <td>negative</td>\n",
              "    </tr>\n",
              "    <tr>\n",
              "      <th>47999</th>\n",
              "      <td>\"The Yoke's on Me\" is undoubtedly the most con...</td>\n",
              "      <td>negative</td>\n",
              "    </tr>\n",
              "  </tbody>\n",
              "</table>\n",
              "</div>"
            ],
            "text/plain": [
              "                                                  review sentiment\n",
              "47995  First of all, Blythe Danner doesn't look anywh...  negative\n",
              "47996  I wouldn't be so quick to look at all the good...  negative\n",
              "47997  Everything about this show is terrible. Its pr...  negative\n",
              "47998  This movie just was not very funny. There's no...  negative\n",
              "47999  \"The Yoke's on Me\" is undoubtedly the most con...  negative"
            ]
          },
          "execution_count": 7,
          "metadata": {},
          "output_type": "execute_result"
        }
      ],
      "source": [
        "reviews.tail()"
      ]
    },
    {
      "cell_type": "markdown",
      "metadata": {
        "pycharm": {
          "name": "#%% md\n"
        },
        "id": "_UeSgeCv5paR"
      },
      "source": [
        "##### Attributes in Data"
      ]
    },
    {
      "cell_type": "code",
      "execution_count": null,
      "metadata": {
        "pycharm": {
          "name": "#%%\n"
        },
        "id": "Ea4WRZxs5paR",
        "outputId": "c1be11ad-8ff1-4d89-f980-db61a10d8935"
      },
      "outputs": [
        {
          "data": {
            "text/plain": [
              "Index(['review', 'sentiment'], dtype='object')"
            ]
          },
          "execution_count": 8,
          "metadata": {},
          "output_type": "execute_result"
        }
      ],
      "source": [
        "reviews.columns"
      ]
    },
    {
      "cell_type": "markdown",
      "metadata": {
        "pycharm": {
          "name": "#%% md\n"
        },
        "id": "cc28pWLg5paS"
      },
      "source": [
        "##### Describe the Data"
      ]
    },
    {
      "cell_type": "code",
      "execution_count": null,
      "metadata": {
        "pycharm": {
          "name": "#%%\n"
        },
        "id": "rVpoLiqa5paS",
        "outputId": "171af9e0-d197-404e-ada6-7f71c1a402b6"
      },
      "outputs": [
        {
          "data": {
            "text/html": [
              "<div>\n",
              "<style scoped>\n",
              "    .dataframe tbody tr th:only-of-type {\n",
              "        vertical-align: middle;\n",
              "    }\n",
              "\n",
              "    .dataframe tbody tr th {\n",
              "        vertical-align: top;\n",
              "    }\n",
              "\n",
              "    .dataframe thead th {\n",
              "        text-align: right;\n",
              "    }\n",
              "</style>\n",
              "<table border=\"1\" class=\"dataframe\">\n",
              "  <thead>\n",
              "    <tr style=\"text-align: right;\">\n",
              "      <th></th>\n",
              "      <th>review</th>\n",
              "      <th>sentiment</th>\n",
              "    </tr>\n",
              "  </thead>\n",
              "  <tbody>\n",
              "    <tr>\n",
              "      <th>count</th>\n",
              "      <td>48000</td>\n",
              "      <td>48000</td>\n",
              "    </tr>\n",
              "    <tr>\n",
              "      <th>unique</th>\n",
              "      <td>47622</td>\n",
              "      <td>2</td>\n",
              "    </tr>\n",
              "    <tr>\n",
              "      <th>top</th>\n",
              "      <td>Loved today's show!!! It was a variety and not...</td>\n",
              "      <td>positive</td>\n",
              "    </tr>\n",
              "    <tr>\n",
              "      <th>freq</th>\n",
              "      <td>5</td>\n",
              "      <td>24000</td>\n",
              "    </tr>\n",
              "  </tbody>\n",
              "</table>\n",
              "</div>"
            ],
            "text/plain": [
              "                                                   review sentiment\n",
              "count                                               48000     48000\n",
              "unique                                              47622         2\n",
              "top     Loved today's show!!! It was a variety and not...  positive\n",
              "freq                                                    5     24000"
            ]
          },
          "execution_count": 9,
          "metadata": {},
          "output_type": "execute_result"
        }
      ],
      "source": [
        "reviews.describe()"
      ]
    },
    {
      "cell_type": "markdown",
      "metadata": {
        "pycharm": {
          "name": "#%% md\n"
        },
        "id": "zaMMhuib5paT"
      },
      "source": [
        "It means there are some Duplicate Records in the data. \n",
        "\n",
        "Let's use groupby to use describe by label, this way we can begin to think about the features that separate Pos and Neg!"
      ]
    },
    {
      "cell_type": "code",
      "execution_count": null,
      "metadata": {
        "pycharm": {
          "name": "#%%\n"
        },
        "id": "wBY1U8i15paT",
        "outputId": "082225f3-f471-4b72-b8d7-ce097807b5d9"
      },
      "outputs": [
        {
          "data": {
            "text/html": [
              "<div>\n",
              "<style scoped>\n",
              "    .dataframe tbody tr th:only-of-type {\n",
              "        vertical-align: middle;\n",
              "    }\n",
              "\n",
              "    .dataframe tbody tr th {\n",
              "        vertical-align: top;\n",
              "    }\n",
              "\n",
              "    .dataframe thead tr th {\n",
              "        text-align: left;\n",
              "    }\n",
              "\n",
              "    .dataframe thead tr:last-of-type th {\n",
              "        text-align: right;\n",
              "    }\n",
              "</style>\n",
              "<table border=\"1\" class=\"dataframe\">\n",
              "  <thead>\n",
              "    <tr>\n",
              "      <th></th>\n",
              "      <th colspan=\"4\" halign=\"left\">review</th>\n",
              "    </tr>\n",
              "    <tr>\n",
              "      <th></th>\n",
              "      <th>count</th>\n",
              "      <th>unique</th>\n",
              "      <th>top</th>\n",
              "      <th>freq</th>\n",
              "    </tr>\n",
              "    <tr>\n",
              "      <th>sentiment</th>\n",
              "      <th></th>\n",
              "      <th></th>\n",
              "      <th></th>\n",
              "      <th></th>\n",
              "    </tr>\n",
              "  </thead>\n",
              "  <tbody>\n",
              "    <tr>\n",
              "      <th>negative</th>\n",
              "      <td>24000</td>\n",
              "      <td>23724</td>\n",
              "      <td>You do realize that you've been watching the E...</td>\n",
              "      <td>3</td>\n",
              "    </tr>\n",
              "    <tr>\n",
              "      <th>positive</th>\n",
              "      <td>24000</td>\n",
              "      <td>23898</td>\n",
              "      <td>Loved today's show!!! It was a variety and not...</td>\n",
              "      <td>5</td>\n",
              "    </tr>\n",
              "  </tbody>\n",
              "</table>\n",
              "</div>"
            ],
            "text/plain": [
              "          review                                                            \\\n",
              "           count unique                                                top   \n",
              "sentiment                                                                    \n",
              "negative   24000  23724  You do realize that you've been watching the E...   \n",
              "positive   24000  23898  Loved today's show!!! It was a variety and not...   \n",
              "\n",
              "                \n",
              "          freq  \n",
              "sentiment       \n",
              "negative     3  \n",
              "positive     5  "
            ]
          },
          "execution_count": 10,
          "metadata": {},
          "output_type": "execute_result"
        }
      ],
      "source": [
        "reviews.groupby('sentiment').describe()"
      ]
    },
    {
      "cell_type": "markdown",
      "metadata": {
        "pycharm": {
          "name": "#%% md\n"
        },
        "id": "uIBVUw1B5paU"
      },
      "source": [
        "### Text Pre-processing"
      ]
    },
    {
      "cell_type": "markdown",
      "metadata": {
        "pycharm": {
          "name": "#%% md\n"
        },
        "id": "3cM2VaO55paU"
      },
      "source": [
        "##### Check Null Values"
      ]
    },
    {
      "cell_type": "code",
      "execution_count": null,
      "metadata": {
        "pycharm": {
          "name": "#%%\n"
        },
        "id": "rY4sBPEz5paU",
        "outputId": "aab59ddd-4c18-465e-b225-da5cc9dbbb96"
      },
      "outputs": [
        {
          "data": {
            "text/plain": [
              "review       0\n",
              "sentiment    0\n",
              "dtype: int64"
            ]
          },
          "execution_count": 11,
          "metadata": {},
          "output_type": "execute_result"
        }
      ],
      "source": [
        "reviews.isnull().sum()"
      ]
    },
    {
      "cell_type": "markdown",
      "metadata": {
        "pycharm": {
          "name": "#%% md\n"
        },
        "id": "yQRodFU45paV"
      },
      "source": [
        "##### Check Duplicate Recode"
      ]
    },
    {
      "cell_type": "code",
      "execution_count": null,
      "metadata": {
        "pycharm": {
          "name": "#%%\n"
        },
        "id": "IwBNKsbl5paV",
        "outputId": "a3ab5868-482d-4636-b4d9-a575d642c111"
      },
      "outputs": [
        {
          "data": {
            "text/plain": [
              "378"
            ]
          },
          "execution_count": 12,
          "metadata": {},
          "output_type": "execute_result"
        }
      ],
      "source": [
        "reviews.review.duplicated().sum()"
      ]
    },
    {
      "cell_type": "code",
      "execution_count": null,
      "metadata": {
        "pycharm": {
          "name": "#%%\n"
        },
        "id": "bgoawNhe5paW"
      },
      "outputs": [],
      "source": [
        "reviews.drop_duplicates(subset=['review'],keep='first',inplace=True) # drop duplicates and kepp one of them"
      ]
    },
    {
      "cell_type": "markdown",
      "metadata": {
        "pycharm": {
          "name": "#%% md\n"
        },
        "id": "Hm2-2Fhr5paW"
      },
      "source": [
        "##### Clean Text\n",
        "Let's create a function that will process the string in the review column, then we can just use apply() in pandas do process all the text in the DataFrame."
      ]
    },
    {
      "cell_type": "code",
      "execution_count": null,
      "metadata": {
        "pycharm": {
          "name": "#%%\n"
        },
        "id": "BKcDBK5a5paW",
        "outputId": "b4361fd1-6fb5-4079-8962-5d516456536c"
      },
      "outputs": [
        {
          "name": "stderr",
          "output_type": "stream",
          "text": [
            "[nltk_data] Downloading package stopwords to\n",
            "[nltk_data]     /home/akmalmasud96/nltk_data...\n",
            "[nltk_data]   Package stopwords is already up-to-date!\n",
            "[nltk_data] Downloading package words to\n",
            "[nltk_data]     /home/akmalmasud96/nltk_data...\n",
            "[nltk_data]   Package words is already up-to-date!\n"
          ]
        },
        {
          "data": {
            "text/plain": [
              "True"
            ]
          },
          "execution_count": 14,
          "metadata": {},
          "output_type": "execute_result"
        }
      ],
      "source": [
        "import nltk\n",
        "nltk.download('stopwords')\n",
        "nltk.download('words')"
      ]
    },
    {
      "cell_type": "code",
      "execution_count": null,
      "metadata": {
        "pycharm": {
          "name": "#%%\n"
        },
        "id": "yETyHSbx5paX"
      },
      "outputs": [],
      "source": [
        "stopwords = set(nltk.corpus.stopwords.words('english'))\n",
        "english_words = set(nltk.corpus.words.words())"
      ]
    },
    {
      "cell_type": "code",
      "execution_count": null,
      "metadata": {
        "pycharm": {
          "name": "#%%\n"
        },
        "id": "SzO7qg3v5paX"
      },
      "outputs": [],
      "source": [
        "def preprocess(text, english_words):\n",
        "    \n",
        "    text = text.lower()\n",
        "    html_tag = '<.*?>'\n",
        "    text = re.sub(html_tag, '', text)\n",
        "    # Removing Punctuation marks\n",
        "    tokenizer = nltk.RegexpTokenizer(r\"\\w+\")\n",
        "    rem_punc = tokenizer.tokenize(text)\n",
        "    # Removing Stop Words\n",
        "    rem_stop_words = [word for word in rem_punc if not word in stopwords]\n",
        "    english_words = [word for word in rem_stop_words if word in english_words]\n",
        "    sentence = ' '.join(english_words)\n",
        "    \n",
        "    return sentence"
      ]
    },
    {
      "cell_type": "code",
      "execution_count": null,
      "metadata": {
        "pycharm": {
          "name": "#%%\n"
        },
        "id": "rKxo2B-G5paX"
      },
      "outputs": [],
      "source": [
        "test_example = 'I was not happy, then i visited Naran, such a beautiful place. Now I am in love with that place'"
      ]
    },
    {
      "cell_type": "code",
      "execution_count": null,
      "metadata": {
        "pycharm": {
          "name": "#%%\n"
        },
        "id": "CUilTBlg5paX"
      },
      "outputs": [],
      "source": [
        "clean_example = preprocess(test_example, english_words)"
      ]
    },
    {
      "cell_type": "code",
      "execution_count": null,
      "metadata": {
        "pycharm": {
          "name": "#%%\n"
        },
        "id": "HDc7MmCN5paX",
        "outputId": "377089e6-1f4f-4014-d8d6-9c86bf595a93"
      },
      "outputs": [
        {
          "data": {
            "text/plain": [
              "'happy beautiful place love place'"
            ]
          },
          "execution_count": 54,
          "metadata": {},
          "output_type": "execute_result"
        }
      ],
      "source": [
        "clean_example"
      ]
    },
    {
      "cell_type": "code",
      "execution_count": null,
      "metadata": {
        "pycharm": {
          "name": "#%%\n"
        },
        "id": "70RkVWIx5paY",
        "outputId": "7e771594-c033-423f-b4bf-2d8d7cb375a8"
      },
      "outputs": [
        {
          "data": {
            "text/plain": [
              "\"Basically there's a family where a little boy (Jake) thinks there's a zombie in his closet & his parents are fighting all the time.<br /><br />This movie is slower than a soap opera... and suddenly, Jake decides to become Rambo and kill the zombie.<br /><br />OK, first of all when you're going to make a film you must Decide if its a thriller or a drama! As a drama the movie is watchable. Parents are divorcing & arguing like in real life. And then we have Jake with his closet which totally ruins all the film! I expected to see a BOOGEYMAN similar movie, and instead i watched a drama with some meaningless thriller spots.<br /><br />3 out of 10 just for the well playing parents & descent dialogs. As for the shots with Jake: just ignore them.\""
            ]
          },
          "execution_count": 17,
          "metadata": {},
          "output_type": "execute_result"
        }
      ],
      "source": [
        "reviews['review'][3]"
      ]
    },
    {
      "cell_type": "code",
      "execution_count": null,
      "metadata": {
        "pycharm": {
          "name": "#%%\n"
        },
        "id": "nYkQbdg35paY"
      },
      "outputs": [],
      "source": [
        "reviews['review'] = reviews['review'].apply(lambda x : preprocess(x, english_words))"
      ]
    },
    {
      "cell_type": "code",
      "execution_count": null,
      "metadata": {
        "pycharm": {
          "name": "#%%\n"
        },
        "id": "J3X66ena5paY",
        "outputId": "7e451c07-f3e8-448f-bede-93740f789d2a"
      },
      "outputs": [
        {
          "data": {
            "text/plain": [
              "'basically family little boy jake zombie closet fighting time movie soap opera suddenly jake become kill zombie first going make film must decide thriller drama drama movie watchable like real life jake closet totally film see similar movie instead watched drama meaningless thriller well descent jake ignore'"
            ]
          },
          "execution_count": 19,
          "metadata": {},
          "output_type": "execute_result"
        }
      ],
      "source": [
        "reviews['review'][3]"
      ]
    },
    {
      "cell_type": "markdown",
      "metadata": {
        "pycharm": {
          "name": "#%% md\n"
        },
        "id": "Q6QLsPs35paY"
      },
      "source": [
        "#### Label Encoidng"
      ]
    },
    {
      "cell_type": "code",
      "execution_count": null,
      "metadata": {
        "pycharm": {
          "name": "#%%\n"
        },
        "id": "viu7yBAE5paZ"
      },
      "outputs": [],
      "source": [
        "reviews['sentiment']= reviews['sentiment'].map( {'positive':1, 'negative': 0} ).astype(int)"
      ]
    },
    {
      "cell_type": "markdown",
      "metadata": {
        "pycharm": {
          "name": "#%% md\n"
        },
        "id": "0Oi0NHW_5paZ"
      },
      "source": [
        "### Exploratory Data Analysis\n",
        "\n",
        "Let's make a new column to detect how long the text messages are:"
      ]
    },
    {
      "cell_type": "code",
      "execution_count": null,
      "metadata": {
        "pycharm": {
          "name": "#%%\n"
        },
        "id": "6HfiSN1y5paZ",
        "outputId": "2f0dfd02-b81d-4980-bad0-42066178650a"
      },
      "outputs": [
        {
          "data": {
            "text/html": [
              "<div>\n",
              "<style scoped>\n",
              "    .dataframe tbody tr th:only-of-type {\n",
              "        vertical-align: middle;\n",
              "    }\n",
              "\n",
              "    .dataframe tbody tr th {\n",
              "        vertical-align: top;\n",
              "    }\n",
              "\n",
              "    .dataframe thead th {\n",
              "        text-align: right;\n",
              "    }\n",
              "</style>\n",
              "<table border=\"1\" class=\"dataframe\">\n",
              "  <thead>\n",
              "    <tr style=\"text-align: right;\">\n",
              "      <th></th>\n",
              "      <th>review</th>\n",
              "      <th>sentiment</th>\n",
              "      <th>length</th>\n",
              "    </tr>\n",
              "  </thead>\n",
              "  <tbody>\n",
              "    <tr>\n",
              "      <th>0</th>\n",
              "      <td>one watching episode hooked right exactly firs...</td>\n",
              "      <td>1</td>\n",
              "      <td>757</td>\n",
              "    </tr>\n",
              "    <tr>\n",
              "      <th>1</th>\n",
              "      <td>wonderful little production technique unassumi...</td>\n",
              "      <td>1</td>\n",
              "      <td>458</td>\n",
              "    </tr>\n",
              "    <tr>\n",
              "      <th>2</th>\n",
              "      <td>thought wonderful way spend time hot summer we...</td>\n",
              "      <td>1</td>\n",
              "      <td>470</td>\n",
              "    </tr>\n",
              "    <tr>\n",
              "      <th>3</th>\n",
              "      <td>basically family little boy jake zombie closet...</td>\n",
              "      <td>0</td>\n",
              "      <td>307</td>\n",
              "    </tr>\n",
              "    <tr>\n",
              "      <th>4</th>\n",
              "      <td>petter love time money visually stunning film ...</td>\n",
              "      <td>1</td>\n",
              "      <td>620</td>\n",
              "    </tr>\n",
              "  </tbody>\n",
              "</table>\n",
              "</div>"
            ],
            "text/plain": [
              "                                              review  sentiment  length\n",
              "0  one watching episode hooked right exactly firs...          1     757\n",
              "1  wonderful little production technique unassumi...          1     458\n",
              "2  thought wonderful way spend time hot summer we...          1     470\n",
              "3  basically family little boy jake zombie closet...          0     307\n",
              "4  petter love time money visually stunning film ...          1     620"
            ]
          },
          "execution_count": 21,
          "metadata": {},
          "output_type": "execute_result"
        }
      ],
      "source": [
        "reviews['length'] = reviews['review'].str.len() #check Leanth of Each tweet\n",
        "reviews.head()"
      ]
    },
    {
      "cell_type": "code",
      "execution_count": null,
      "metadata": {
        "pycharm": {
          "name": "#%%\n"
        },
        "id": "WYYRAkVw5paZ",
        "outputId": "ed6300f5-0960-4882-ccbb-814cffe43f02"
      },
      "outputs": [
        {
          "data": {
            "text/plain": [
              "count    47622.000000\n",
              "mean       607.156377\n",
              "std        461.739841\n",
              "min         17.000000\n",
              "25%        323.000000\n",
              "50%        451.000000\n",
              "75%        739.000000\n",
              "max       6378.000000\n",
              "Name: length, dtype: float64"
            ]
          },
          "execution_count": 22,
          "metadata": {},
          "output_type": "execute_result"
        }
      ],
      "source": [
        "reviews.length.describe()"
      ]
    },
    {
      "cell_type": "markdown",
      "metadata": {
        "pycharm": {
          "name": "#%% md\n"
        },
        "id": "E9UefK3d5paa"
      },
      "source": [
        "Maximum tweet leanth is 6378, which is very long and as we see mean is 607. We will remove long tweets. We will remove top 100 indexes with maximum length."
      ]
    },
    {
      "cell_type": "code",
      "execution_count": null,
      "metadata": {
        "pycharm": {
          "name": "#%%\n"
        },
        "id": "UnGNd3Sv5paa"
      },
      "outputs": [],
      "source": [
        "reviews = reviews.sample(frac=1,random_state=SEED).reset_index(drop=True) #shuffle data frame"
      ]
    },
    {
      "cell_type": "markdown",
      "metadata": {
        "pycharm": {
          "name": "#%% md\n"
        },
        "id": "dWzRX03X5paa"
      },
      "source": [
        "### Data Visualization"
      ]
    },
    {
      "cell_type": "code",
      "execution_count": null,
      "metadata": {
        "pycharm": {
          "name": "#%%\n"
        },
        "id": "pRns9c245paa",
        "outputId": "116132e3-0d4e-4518-c3e2-6e32dd42880a"
      },
      "outputs": [
        {
          "data": {
            "text/plain": [
              "<AxesSubplot:xlabel='length', ylabel='Density'>"
            ]
          },
          "execution_count": 24,
          "metadata": {},
          "output_type": "execute_result"
        },
        {
          "data": {
            "image/png": "[encoded data removed]",
            "text/plain": [
              "<Figure size 432x288 with 1 Axes>"
            ]
          },
          "metadata": {},
          "output_type": "display_data"
        }
      ],
      "source": [
        "sns.set_style('whitegrid')\n",
        "sns.distplot(reviews['length'],bins=25)"
      ]
    },
    {
      "cell_type": "markdown",
      "metadata": {
        "pycharm": {
          "name": "#%% md\n"
        },
        "id": "_ydEKoFu5paa"
      },
      "source": [
        "Most of the reviews are between 0 to 1000 lengths. Now we will remove top 100 indexes with maximum length."
      ]
    },
    {
      "cell_type": "code",
      "execution_count": null,
      "metadata": {
        "pycharm": {
          "name": "#%%\n"
        },
        "id": "rz-4I_JI5pab",
        "outputId": "5886c90c-ad60-4621-95c2-49c47a4bc36e"
      },
      "outputs": [
        {
          "data": {
            "text/plain": [
              "array([-6378, -6343, -5785, -5586, -4786, -4641, -4560, -4205, -4154,\n",
              "       -4140, -4099, -4006, -3784, -3720, -3677, -3546, -3541, -3447,\n",
              "       -3440, -3324, -3292, -3235, -3205, -3195, -3188, -3182, -3164,\n",
              "       -3159, -3116, -3047, -3043, -3042, -3037, -3032, -3021, -3020,\n",
              "       -3015, -3012, -3005, -2999, -2997, -2997, -2993, -2987, -2987,\n",
              "       -2977, -2975, -2962, -2957, -2944, -2937, -2932, -2932, -2929,\n",
              "       -2928, -2922, -2911, -2907, -2896, -2884, -2879, -2878, -2877,\n",
              "       -2877, -2874, -2871, -2868, -2868, -2867, -2867, -2861, -2859,\n",
              "       -2852, -2850, -2850, -2850, -2848, -2843, -2843, -2841, -2841,\n",
              "       -2840, -2839, -2838, -2835, -2832, -2832, -2831, -2829, -2828,\n",
              "       -2819, -2819, -2814, -2814, -2812, -2812, -2810, -2804, -2801,\n",
              "       -2799])"
            ]
          },
          "execution_count": 25,
          "metadata": {},
          "output_type": "execute_result"
        }
      ],
      "source": [
        "np.sort(-reviews['length'])[0:100]"
      ]
    },
    {
      "cell_type": "code",
      "execution_count": null,
      "metadata": {
        "pycharm": {
          "name": "#%%\n"
        },
        "id": "nH4bXdDy5pab"
      },
      "outputs": [],
      "source": [
        "reviews.drop(reviews.index[np.argsort(-reviews['length'])[0:100]],axis=0,inplace=True)"
      ]
    },
    {
      "cell_type": "code",
      "execution_count": null,
      "metadata": {
        "pycharm": {
          "name": "#%%\n"
        },
        "id": "hPZBV7nZ5pab",
        "outputId": "19e43414-d26a-4fc2-f190-20bec1e45598"
      },
      "outputs": [
        {
          "data": {
            "text/plain": [
              "count    47522.000000\n",
              "mean       601.662472\n",
              "std        445.201237\n",
              "min         17.000000\n",
              "25%        322.000000\n",
              "50%        450.000000\n",
              "75%        736.000000\n",
              "max       2797.000000\n",
              "Name: length, dtype: float64"
            ]
          },
          "execution_count": 27,
          "metadata": {},
          "output_type": "execute_result"
        }
      ],
      "source": [
        "reviews.length.describe()"
      ]
    },
    {
      "cell_type": "code",
      "execution_count": null,
      "metadata": {
        "pycharm": {
          "name": "#%%\n"
        },
        "id": "yZm20a5y5pab",
        "outputId": "24d03ee8-0803-4ad0-d0e6-ce40a771cd87"
      },
      "outputs": [
        {
          "data": {
            "text/plain": [
              "array([<AxesSubplot:title={'center':'0'}>,\n",
              "       <AxesSubplot:title={'center':'1'}>], dtype=object)"
            ]
          },
          "execution_count": 28,
          "metadata": {},
          "output_type": "execute_result"
        },
        {
          "data": {
            "image/png": "[encoded data removed]",
            "text/plain": [
              "<Figure size 864x288 with 2 Axes>"
            ]
          },
          "metadata": {},
          "output_type": "display_data"
        }
      ],
      "source": [
        "reviews.hist(column='length', by='sentiment', bins=25,figsize=(12,4))"
      ]
    },
    {
      "cell_type": "code",
      "execution_count": null,
      "metadata": {
        "pycharm": {
          "name": "#%%\n"
        },
        "id": "yXbdhT2_5pac",
        "outputId": "0c14a731-f610-4b6f-d86e-8b4bc41e4ad8"
      },
      "outputs": [
        {
          "data": {
            "text/plain": [
              "<AxesSubplot:xlabel='sentiment', ylabel='count'>"
            ]
          },
          "execution_count": 29,
          "metadata": {},
          "output_type": "execute_result"
        },
        {
          "data": {
            "image/png": "[encoded data removed]",
            "text/plain": [
              "<Figure size 432x288 with 1 Axes>"
            ]
          },
          "metadata": {},
          "output_type": "display_data"
        }
      ],
      "source": [
        "sns.countplot(x='sentiment',data=reviews,palette='coolwarm')"
      ]
    },
    {
      "cell_type": "markdown",
      "metadata": {
        "pycharm": {
          "name": "#%% md\n"
        },
        "id": "fsnmL0lR5pac"
      },
      "source": [
        "#### Save the clean data"
      ]
    },
    {
      "cell_type": "code",
      "execution_count": null,
      "metadata": {
        "pycharm": {
          "name": "#%%\n"
        },
        "id": "qiK42yI05pac"
      },
      "outputs": [],
      "source": [
        "reviews = reviews.sample(frac=1,random_state=SEED).reset_index(drop=True) #shuffle data frame\n",
        "reviews.to_csv('data/clean.csv',index = False)"
      ]
    },
    {
      "cell_type": "markdown",
      "metadata": {
        "pycharm": {
          "name": "#%% md\n"
        },
        "id": "5iwt6SSF5pac"
      },
      "source": [
        "### TorchText\n",
        "We will use the torchtext for loading the data and also do encoding with torchtext."
      ]
    },
    {
      "cell_type": "markdown",
      "metadata": {
        "pycharm": {
          "name": "#%% md\n"
        },
        "id": "KPZMi8i75pac"
      },
      "source": [
        "##### Load the dataset\n",
        "We will load the dataset and create a vocab and resturn dataloader."
      ]
    },
    {
      "cell_type": "code",
      "execution_count": null,
      "metadata": {
        "pycharm": {
          "name": "#%%\n"
        },
        "id": "KsaDRRdf5pad"
      },
      "outputs": [],
      "source": [
        "def loadDataset(fix_length, batch_size,embedding_vector = '100'):\n",
        "    \n",
        "    # define the columns\n",
        "    TEXT = data.Field(tokenize = 'spacy',\n",
        "                  tokenizer_language = 'en_core_web_sm',\n",
        "                  include_lengths = True,\n",
        "                  init_token='<start>',\n",
        "                  eos_token='<end>',\n",
        "                 fix_length = fix_length)\n",
        "    \n",
        "    LABEL = data.LabelField(dtype = torch.long)\n",
        "    \n",
        "    # create tuples representing the columns\n",
        "    fields = [\n",
        "      ('review', TEXT),\n",
        "      ('sentiment',LABEL)\n",
        "    ]\n",
        "    \n",
        "    #### Create the Dataset\n",
        "    dataset, test_dataset = data.TabularDataset.splits(\n",
        "                                                       path='data',\n",
        "                                                       train = 'clean.csv',\n",
        "                                                       test = 'clean_unlabel.csv',\n",
        "                                                       format = 'csv',\n",
        "                                                       fields = fields,\n",
        "                                                       skip_header = True,\n",
        "                                                    )\n",
        "    \n",
        "    ## Split the data\n",
        "    train_data, test_data = dataset.split(split_ratio=0.7, random_state = random.seed(SEED))\n",
        "    train_data, valid_data = train_data.split(split_ratio=0.8, random_state = random.seed(SEED))\n",
        "    print(f'Number of training examples: {len(train_data)}')\n",
        "    print(f'Number of validation examples: {len(valid_data)}')\n",
        "    print(f'Number of testing examples: {len(test_data)}')\n",
        "    \n",
        "    ### create Vocab\n",
        "    MAX_VOCAB_SIZE = 30_000\n",
        "    if embedding_vector == '300':\n",
        "        \n",
        "        TEXT.build_vocab(train_data, \n",
        "                         max_size = MAX_VOCAB_SIZE, \n",
        "                         vectors = \"glove.6B.300d\", \n",
        "                         unk_init = torch.Tensor.normal_)\n",
        "        LABEL.build_vocab(train_data)\n",
        "    else:\n",
        "        TEXT.build_vocab(train_data, \n",
        "                         max_size = MAX_VOCAB_SIZE, \n",
        "                         vectors = \"glove.6B.100d\", \n",
        "                         unk_init = torch.Tensor.normal_)\n",
        "        LABEL.build_vocab(train_data)\n",
        "        \n",
        "    ### create the Dataloader\n",
        "    train_iterator, valid_iterator, test_iterator = data.BucketIterator.splits(\n",
        "                                                                                (train_data, valid_data, test_data), \n",
        "                                                                                batch_size = batch_size,\n",
        "                                                                                sort_key = lambda x: x.review,\n",
        "                                                                                sort_within_batch = True,\n",
        "                                                                                device = device)\n",
        "    \n",
        "    return train_iterator, valid_iterator, test_iterator, TEXT, test_dataset"
      ]
    },
    {
      "cell_type": "code",
      "source": [
        "embedding_vector = '300'\n",
        "# create dataset loaders\n",
        "train_loader, val_loader, test_loader, TEXT, test_dataset = loadDataset(fix_length, batch_size, embedding_vector)\n",
        "# intilize the model\n",
        "pad_idx = PAD_IDX = TEXT.vocab.stoi[TEXT.pad_token]\n",
        "input_dim = len(TEXT.vocab)\n",
        "\n",
        "# define network\n",
        "Net = Initialize_Network(type_of_rnn, input_dim,embedding_dim, hidden_dim_per_layer, output_dim, pad_idx, dropout)\n",
        "print(Net)\n",
        "### Pretrained Embedding\n",
        "pretrained_embeddings = TEXT.vocab.vectors\n",
        "Net.embedding.weight.data.copy_(pretrained_embeddings)\n",
        "UNK_IDX = TEXT.vocab.stoi[TEXT.unk_token]\n",
        "Net.embedding.weight.data[UNK_IDX] = torch.zeros(embedding_dim)\n",
        "Net.embedding.weight.data[PAD_IDX] = torch.zeros(embedding_dim)"
      ],
      "metadata": {
        "id": "cuX0V_L36ES4"
      },
      "execution_count": null,
      "outputs": []
    },
    {
      "cell_type": "code",
      "execution_count": null,
      "metadata": {
        "pycharm": {
          "name": "#%%\n"
        },
        "id": "uMkaF6Ym5pal",
        "outputId": "d2a16a10-a44c-4387-d1c5-66fbd5101181"
      },
      "outputs": [
        {
          "data": {
            "text/plain": [
              "'happy beautiful place love place'"
            ]
          },
          "execution_count": 55,
          "metadata": {},
          "output_type": "execute_result"
        }
      ],
      "source": [
        "clean_example"
      ]
    },
    {
      "cell_type": "code",
      "execution_count": null,
      "metadata": {
        "pycharm": {
          "name": "#%%\n"
        },
        "id": "es_GPSY-5pal",
        "outputId": "09bf8c46-c454-4b8f-aee7-493c385db67b"
      },
      "outputs": [
        {
          "data": {
            "text/plain": [
              "['happy', 'beautiful', 'place', 'love', 'place']"
            ]
          },
          "execution_count": 120,
          "metadata": {},
          "output_type": "execute_result"
        }
      ],
      "source": [
        "TEXT.tokenize(clean_example)"
      ]
    },
    {
      "cell_type": "code",
      "execution_count": null,
      "metadata": {
        "pycharm": {
          "name": "#%%\n"
        },
        "id": "WFh12WxJ5pal",
        "outputId": "b8023b37-5a53-405c-d275-184b5a23ae21"
      },
      "outputs": [
        {
          "data": {
            "text/plain": [
              "'<pad>'"
            ]
          },
          "execution_count": 122,
          "metadata": {},
          "output_type": "execute_result"
        }
      ],
      "source": [
        "TEXT.pad_token"
      ]
    },
    {
      "cell_type": "code",
      "execution_count": null,
      "metadata": {
        "pycharm": {
          "name": "#%%\n"
        },
        "id": "4c_ya6PH5pam"
      },
      "outputs": [],
      "source": [
        "temp = clean_example.split()\n",
        "temp.insert(0,TEXT.init_token)\n",
        "temp.append(TEXT.eos_token)"
      ]
    },
    {
      "cell_type": "code",
      "execution_count": null,
      "metadata": {
        "pycharm": {
          "name": "#%%\n"
        },
        "id": "TxtWYkFy5pam",
        "outputId": "58bc10af-ee31-43f4-f03d-f2b702b48ebe"
      },
      "outputs": [
        {
          "data": {
            "text/plain": [
              "['<start>', 'happy', 'beautiful', 'place', 'love', 'place', '<end>']"
            ]
          },
          "execution_count": 141,
          "metadata": {},
          "output_type": "execute_result"
        }
      ],
      "source": [
        "temp"
      ]
    },
    {
      "cell_type": "code",
      "execution_count": null,
      "metadata": {
        "pycharm": {
          "name": "#%%\n"
        },
        "id": "OLsWABUx5pam"
      },
      "outputs": [],
      "source": [
        "for pad in range(len(temp),200):\n",
        "    temp.append(TEXT.pad_token) "
      ]
    },
    {
      "cell_type": "code",
      "execution_count": null,
      "metadata": {
        "pycharm": {
          "name": "#%%\n"
        },
        "id": "xKZqsrWB5pam"
      },
      "outputs": [],
      "source": [
        "encode = []\n",
        "for word in temp:\n",
        "    encode.append(TEXT.vocab.stoi.get(word))"
      ]
    },
    {
      "cell_type": "code",
      "execution_count": null,
      "metadata": {
        "pycharm": {
          "name": "#%%\n"
        },
        "id": "J1AnFlAv5pam",
        "outputId": "54d80870-3ab4-4caf-a15c-dae53353e2d4"
      },
      "outputs": [
        {
          "data": {
            "text/plain": [
              "[2, 465, 168, 149, 33, 149, 3]"
            ]
          },
          "execution_count": 146,
          "metadata": {},
          "output_type": "execute_result"
        }
      ],
      "source": [
        "encode"
      ]
    },
    {
      "cell_type": "code",
      "execution_count": null,
      "metadata": {
        "pycharm": {
          "name": "#%%\n"
        },
        "id": "0COG6Cxe5pan",
        "outputId": "1d552c8b-b294-4dae-e1dd-3f2e13710f36"
      },
      "outputs": [
        {
          "data": {
            "text/plain": [
              "tensor([[  2],\n",
              "        [465],\n",
              "        [168],\n",
              "        [149],\n",
              "        [ 33],\n",
              "        [149],\n",
              "        [  3]])"
            ]
          },
          "execution_count": 147,
          "metadata": {},
          "output_type": "execute_result"
        }
      ],
      "source": [
        "torch.transpose(torch.unsqueeze(torch.tensor(encode),0),0,1)"
      ]
    },
    {
      "cell_type": "code",
      "execution_count": null,
      "metadata": {
        "pycharm": {
          "name": "#%%\n"
        },
        "id": "DDHnCdQ35pan",
        "outputId": "5dbf4b20-fdd7-4fb7-8857-54175da9b6c5"
      },
      "outputs": [
        {
          "data": {
            "text/plain": [
              "tensor([[  2],\n",
              "        [465],\n",
              "        [168],\n",
              "        [149],\n",
              "        [ 33],\n",
              "        [149],\n",
              "        [  3]])"
            ]
          },
          "execution_count": 148,
          "metadata": {},
          "output_type": "execute_result"
        }
      ],
      "source": [
        "example = torch.transpose(torch.unsqueeze(torch.tensor(encode),0),0,1).type(torch.LongTensor)\n",
        "example"
      ]
    },
    {
      "cell_type": "markdown",
      "source": [
        "# Dat Pre processing(Wrong)"
      ],
      "metadata": {
        "id": "SHlFIsZDkYAA"
      }
    },
    {
      "cell_type": "markdown",
      "source": [
        "### Dataset Class"
      ],
      "metadata": {
        "id": "pA0OYD6HqV3I"
      }
    },
    {
      "cell_type": "code",
      "execution_count": null,
      "metadata": {
        "id": "IPPa9kI6FqpE"
      },
      "outputs": [],
      "source": [
        "class dataset(Dataset):\n",
        "    def __init__(self, datapath):\n",
        "        self.data = pd.read_csv(datapath)\n",
        "        df1 = self.data.loc[self.data['sentiment'] == 'positive'].iloc[0:3000,:]\n",
        "        df2 = self.data.loc[self.data['sentiment'] != 'positive'].iloc[0:3000,:]\n",
        "        self.data = pd.concat([df1, df2], axis=0).reset_index(drop=True)\n",
        "        #self.data = self.data.iloc[0:100,:]\n",
        "        self.data['sentiment'] = np.where(self.data.sentiment == 'positive',1,0)\n",
        "        self.tokenizer = tf.keras.preprocessing.text.Tokenizer()\n",
        "        \n",
        "\n",
        "    def preprocess(self, text):\n",
        "        lower = text.lower()\n",
        "        # Removing Punctuation marks\n",
        "        tokenizer = nltk.RegexpTokenizer(r\"\\w+\")\n",
        "        rem_punc = tokenizer.tokenize(lower)\n",
        "\n",
        "        # Removing Stop Words\n",
        "        stopwords = nltk.corpus.stopwords.words('english')\n",
        "        rem_stop_words = [word for word in rem_punc if not word in stopwords]\n",
        "        \n",
        "        # Removing Non-English words \n",
        "        english_words = nltk.corpus.words.words()\n",
        "        english_words = [word for word in rem_stop_words if word in english_words] \n",
        "\n",
        "        # Lemmatization\n",
        "        lemmatizer = nltk.stem.WordNetLemmatizer()\n",
        "        lemmatized_words = [lemmatizer.lemmatize(word) for word in english_words]\n",
        "\n",
        "        # Insert Start End tokens\n",
        "        lemmatized_words.insert(0,'<start>')\n",
        "        lemmatized_words.append('<end>')\n",
        "        sentence = ' '.join(lemmatized_words)\n",
        "    \n",
        "        return sentence\n",
        "\n",
        "    def encode_text(self, text):\n",
        "        # Tokenization\n",
        "        self.tokenizer.fit_on_texts(text)\n",
        "\n",
        "        # Converting to sequences\n",
        "        sequences = self.tokenizer.texts_to_sequences(text)\n",
        "    \n",
        "        # Padding Zeros\n",
        "        max_len = 150\n",
        "\n",
        "        self.tokenizer.word_index['<pad>'] = 0\n",
        "        self.tokenizer.index_word[0] = '<pad>'\n",
        "        padded_sequences = tf.keras.preprocessing.sequence.pad_sequences(\n",
        "            sequences, maxlen=max_len, padding='post', truncating='post'\n",
        "        )\n",
        "\n",
        "        \n",
        "        return padded_sequences\n",
        "    \n",
        "    def save_tokenizer(self):\n",
        "        with open('tokenizer.pickle', 'wb') as handle:\n",
        "            pickle.dump(self.tokenizer, handle, protocol=pickle.HIGHEST_PROTOCOL)\n",
        "\n",
        "    def __len__(self):\n",
        "        return self.data.shape[0]\n",
        "    \n",
        "    def __getitem__(self, index):\n",
        "        if index == len(self) - 1:\n",
        "            self.save_tokenizer()\n",
        "        \n",
        "        text = self.data.review[index]\n",
        "        target = self.data.sentiment[index]\n",
        "        \n",
        "\n",
        "        text = [self.preprocess(text)]\n",
        "        encodings = self.encode_text(text)\n",
        "\n",
        "\n",
        "        return torch.tensor(encodings), torch.tensor(target) "
      ]
    },
    {
      "cell_type": "markdown",
      "source": [
        "### Load dataset Function"
      ],
      "metadata": {
        "id": "m9HQawz-qdw5"
      }
    },
    {
      "cell_type": "code",
      "execution_count": null,
      "metadata": {
        "id": "AoFvhxIbSyV8"
      },
      "outputs": [],
      "source": [
        "def LoadDataset(train_data_path, train_batch_size=512, \n",
        "                val_batch_size=512, Shuffle=True):\n",
        "    \n",
        "    # loading datasets\n",
        "    train = dataset(train_data_path)\n",
        "    # test_data = dataset(test_data_path)\n",
        "\n",
        "    #dividing dataset\n",
        "    size = len(train)\n",
        "    train_data, val_data = torch.utils.data.random_split(train,\n",
        "                                                        [math.ceil(size * 0.8),\n",
        "                                                         math.ceil(size * 0.2)])\n",
        "\n",
        "    #creating data loaders\n",
        "    train_loader = DataLoader(train_data, batch_size=train_batch_size,\n",
        "                              shuffle=Shuffle)\n",
        "    val_loader = DataLoader(val_data, batch_size=val_batch_size, shuffle=Shuffle)\n",
        "\n",
        "    \n",
        "    #Return\n",
        "    return train_loader, val_loader"
      ]
    }
  ],
  "metadata": {
    "kernelspec": {
      "display_name": "Python 3",
      "language": "python",
      "name": "python3"
    },
    "language_info": {
      "codemirror_mode": {
        "name": "ipython",
        "version": 3
      },
      "file_extension": ".py",
      "mimetype": "text/x-python",
      "name": "python",
      "nbconvert_exporter": "python",
      "pygments_lexer": "ipython3",
      "version": "3.8.8"
    },
    "colab": {
      "provenance": []
    }
  },
  "nbformat": 4,
  "nbformat_minor": 0
}